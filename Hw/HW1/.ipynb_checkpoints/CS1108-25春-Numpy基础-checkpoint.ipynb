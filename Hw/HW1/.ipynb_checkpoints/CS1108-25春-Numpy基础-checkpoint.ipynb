{
 "cells": [
  {
   "cell_type": "markdown",
   "metadata": {
    "collapsed": true,
    "id": "D550C4A549E64EEE896C2429DA36726C",
    "jupyter": {
     "outputs_hidden": true
    },
    "mdEditEnable": false,
    "slideshow": {
     "slide_type": "slide"
    },
    "tags": []
   },
   "source": [
    "# Numpy 基础\n",
    "## NumPy 库简介\n",
    "- **NumPy(Numerical Python)** 是 Python 语言的一个扩展程序库，支持大量的维度数组与矩阵运算，此外也针对数组运算提供大量的数学函数库。\n",
    "- NumPy 通常与 SciPy（Scientific Python）和 Matplotlib（绘图库）一起使用， 这种组合广泛用于替代MATLAB，是一个强大的科学计算环境，有助于我们通过 Python 学习数据科学和机器学习。\n",
    "\n",
    "### 相关链接\n",
    "- NumPy 官网 http://www.numpy.org/\n",
    "- NumPy 源代码：https://github.com/numpy/numpy\n",
    "- SciPy 官网：https://www.scipy.org/\n",
    "- SciPy 源代码：https://github.com/scipy/scipy\n",
    "- Matplotlib 官网：https://matplotlib.org/\n",
    "- Matplotlib 源代码：https://github.com/matplotlib/matplotlib"
   ]
  },
  {
   "cell_type": "markdown",
   "metadata": {
    "collapsed": true,
    "id": "5C2C1F5145B740E294F4BE1096DAC56B",
    "jupyter": {
     "outputs_hidden": true
    },
    "mdEditEnable": false,
    "slideshow": {
     "slide_type": "slide"
    },
    "tags": []
   },
   "source": [
    "## Ndarray 对象\n",
    "\n",
    "ndarray是numpy中最基础的数据类型，ndarray是一个**多维数组**对象。"
   ]
  },
  {
   "cell_type": "code",
   "execution_count": 3,
   "metadata": {},
   "outputs": [],
   "source": [
    "import numpy as np  # 导入numpy库，并且重命名为np"
   ]
  },
  {
   "cell_type": "markdown",
   "metadata": {},
   "source": [
    "首先我们看一下传统的list在数据处理的时候的局限性"
   ]
  },
  {
   "cell_type": "code",
   "execution_count": 1,
   "metadata": {
    "id": "FE9EE55FCB6B4F13964360C1EBBFB664",
    "jupyter": {},
    "slideshow": {
     "slide_type": "slide"
    },
    "tags": []
   },
   "outputs": [
    {
     "ename": "TypeError",
     "evalue": "can only concatenate list (not \"int\") to list",
     "output_type": "error",
     "traceback": [
      "\u001b[1;31m---------------------------------------------------------------------------\u001b[0m",
      "\u001b[1;31mTypeError\u001b[0m                                 Traceback (most recent call last)",
      "Cell \u001b[1;32mIn[1], line 3\u001b[0m\n\u001b[0;32m      1\u001b[0m a \u001b[38;5;241m=\u001b[39m [\u001b[38;5;241m1\u001b[39m,\u001b[38;5;241m2\u001b[39m,\u001b[38;5;241m3\u001b[39m] \u001b[38;5;66;03m# 一维列表（list）\u001b[39;00m\n\u001b[0;32m      2\u001b[0m b \u001b[38;5;241m=\u001b[39m [[\u001b[38;5;241m1\u001b[39m,\u001b[38;5;241m2\u001b[39m,\u001b[38;5;241m3\u001b[39m],[\u001b[38;5;241m4\u001b[39m,\u001b[38;5;241m5\u001b[39m,\u001b[38;5;241m6\u001b[39m],[\u001b[38;5;241m7\u001b[39m,\u001b[38;5;241m8\u001b[39m,\u001b[38;5;241m9\u001b[39m]] \u001b[38;5;66;03m# 二维列表\u001b[39;00m\n\u001b[1;32m----> 3\u001b[0m b\u001b[38;5;241m+\u001b[39m\u001b[38;5;241m2\u001b[39m\n",
      "\u001b[1;31mTypeError\u001b[0m: can only concatenate list (not \"int\") to list"
     ]
    }
   ],
   "source": [
    "a = [1,2,3] # 一维列表（list）\n",
    "b = [[1,2,3],[4,5,6],[7,8,9]] # 二维列表\n",
    "b+2 # 不难发现，list无法进行常规的矩阵运算，限制了很多操作"
   ]
  },
  {
   "cell_type": "markdown",
   "metadata": {
    "id": "DD3EEF0A2C544BFA8613522113420D4E",
    "jupyter": {},
    "mdEditEnable": false,
    "slideshow": {
     "slide_type": "slide"
    },
    "tags": []
   },
   "source": [
    "### 从list创建ndarray"
   ]
  },
  {
   "cell_type": "code",
   "execution_count": null,
   "metadata": {
    "id": "9BB86C08534242C99E48BDF66D4F476D",
    "jupyter": {},
    "slideshow": {
     "slide_type": "slide"
    },
    "tags": []
   },
   "outputs": [],
   "source": [
    "data=np.array([[ 1.9526, -0.246 , -0.8856],\n",
    "               [ 0.5639, 0.2379, 0.9104]]) # 注意需要两层括号\n",
    "data"
   ]
  },
  {
   "cell_type": "code",
   "execution_count": null,
   "metadata": {
    "id": "FFBD0B6B75FE42308546A04E79687D2D",
    "jupyter": {},
    "slideshow": {
     "slide_type": "slide"
    },
    "tags": []
   },
   "outputs": [],
   "source": [
    "np.sin(data) # ndarray数组可以直接进行数组层面的数据运算"
   ]
  },
  {
   "cell_type": "code",
   "execution_count": null,
   "metadata": {},
   "outputs": [],
   "source": [
    "np.sin(data)+np.cos(data) # ndarray数组可以直接进行数组层面的数据运算,这与matlab是相似的"
   ]
  },
  {
   "cell_type": "markdown",
   "metadata": {
    "id": "B532DA234EEC4FA3862E13FD163BBFF9",
    "jupyter": {},
    "mdEditEnable": false,
    "slideshow": {
     "slide_type": "slide"
    },
    "tags": []
   },
   "source": [
    "###  Ndarray对象的属性\n",
    "每个ndarray数组都具有下面几个常用的属性：\n",
    "- `ndim`\t维度数，如向量为1维，矩阵为2维\n",
    "- `shape`\t数组的形状，如(3,4)代表3行4列\n",
    "- `size`\t数组元素的总个数，相当于shape 中所有形状参数的乘积，在上一行的例子中为3*4=12\n",
    "- `dtype`  每一个元素的类型\n",
    "- `itemsize`  每个元素的大小，以字节为单位"
   ]
  },
  {
   "cell_type": "code",
   "execution_count": 5,
   "metadata": {
    "id": "370C44C6F926411BA31B73A463C1EE79",
    "jupyter": {},
    "slideshow": {
     "slide_type": "slide"
    },
    "tags": []
   },
   "outputs": [
    {
     "data": {
      "text/plain": [
       "2"
      ]
     },
     "execution_count": 5,
     "metadata": {},
     "output_type": "execute_result"
    }
   ],
   "source": [
    "data=np.array([[ 1.9526, -0.246 , -0.8856],\n",
    "                [ 0.5639, 0.2379, 0.9104],\n",
    "                [ 0.5639, 0.2379, 0.9104]\n",
    "                ])\n",
    "data.ndim"
   ]
  },
  {
   "cell_type": "code",
   "execution_count": 7,
   "metadata": {
    "id": "378126DBF7AF438989F7D53992604A8A",
    "jupyter": {},
    "slideshow": {
     "slide_type": "slide"
    },
    "tags": []
   },
   "outputs": [
    {
     "data": {
      "text/plain": [
       "(3, 3)"
      ]
     },
     "execution_count": 7,
     "metadata": {},
     "output_type": "execute_result"
    }
   ],
   "source": [
    "data.shape"
   ]
  },
  {
   "cell_type": "code",
   "execution_count": 9,
   "metadata": {
    "id": "8667019DB63046A48AC4D3A4C4FAF9D8",
    "jupyter": {},
    "slideshow": {
     "slide_type": "slide"
    },
    "tags": []
   },
   "outputs": [
    {
     "data": {
      "text/plain": [
       "9"
      ]
     },
     "execution_count": 9,
     "metadata": {},
     "output_type": "execute_result"
    }
   ],
   "source": [
    "data.size"
   ]
  },
  {
   "cell_type": "code",
   "execution_count": 11,
   "metadata": {
    "id": "7572C559804D4F038341EEB76E5CB2F8",
    "jupyter": {},
    "slideshow": {
     "slide_type": "slide"
    },
    "tags": []
   },
   "outputs": [
    {
     "data": {
      "text/plain": [
       "dtype('float64')"
      ]
     },
     "execution_count": 11,
     "metadata": {},
     "output_type": "execute_result"
    }
   ],
   "source": [
    "# 这里的dtype需要重点关注并记忆，当我们处理结构化数据的时候，常常需要基于数据类型进行必要的分类处理\n",
    "data.dtype "
   ]
  },
  {
   "cell_type": "code",
   "execution_count": 13,
   "metadata": {
    "id": "8B7F212E926B4794BB92667BAC450AE4",
    "jupyter": {},
    "slideshow": {
     "slide_type": "slide"
    },
    "tags": []
   },
   "outputs": [
    {
     "data": {
      "text/plain": [
       "8"
      ]
     },
     "execution_count": 13,
     "metadata": {},
     "output_type": "execute_result"
    }
   ],
   "source": [
    "data.itemsize"
   ]
  },
  {
   "cell_type": "markdown",
   "metadata": {
    "id": "4A6E40A575A94EB98CC809E236CC53D3",
    "jupyter": {},
    "mdEditEnable": false,
    "slideshow": {
     "slide_type": "slide"
    },
    "tags": []
   },
   "source": [
    "### 其他创建Ndarray的方式\n",
    "\n",
    "ndarray 数组除了可以使用`list`来创建外，也可以通过以下几种方式来创建。\n",
    "\n",
    "#### 初始化创建数组\n",
    "\n",
    "- `zeros`  创建指定形状大小的数组，数组元素以 0 来填充\n",
    "- `ones`  创建指定形状的数组，数组元素以 1 来填充"
   ]
  },
  {
   "cell_type": "code",
   "execution_count": null,
   "metadata": {
    "id": "DBCE8AA6EF6D45DF896DC70F63D60B8D",
    "jupyter": {},
    "slideshow": {
     "slide_type": "slide"
    },
    "tags": []
   },
   "outputs": [],
   "source": [
    "data1=np.zeros((6,3))\n",
    "data1"
   ]
  },
  {
   "cell_type": "code",
   "execution_count": null,
   "metadata": {
    "id": "B49AC6436E5342DDA1884CD058906A97",
    "jupyter": {},
    "slideshow": {
     "slide_type": "slide"
    },
    "tags": []
   },
   "outputs": [],
   "source": [
    "data2= 5 * np.ones((6,3))\n",
    "data2"
   ]
  },
  {
   "cell_type": "markdown",
   "metadata": {
    "id": "097144841428439F821635BA66EF416B",
    "jupyter": {},
    "mdEditEnable": false,
    "slideshow": {
     "slide_type": "slide"
    },
    "tags": []
   },
   "source": [
    "#### 从数值范围创建数组\n",
    "numpy 中的使用 arange 函数创建数值范围并返回 ndarray 对象，函数格式如下：\n",
    "`numpy.arange(start, stop, step, dtype)`\n",
    "- `start`\t起始值，默认为0\n",
    "- `stop`\t终止值（不包含）\n",
    "- `step`\t步长，默认为1\n",
    "- `dtype`\t返回ndarray的数据类型，如果没有提供，则会使用输入数据的类型。"
   ]
  },
  {
   "cell_type": "code",
   "execution_count": 15,
   "metadata": {
    "id": "A245FAB83D914DC681EEC0E36F517377",
    "jupyter": {},
    "slideshow": {
     "slide_type": "slide"
    },
    "tags": []
   },
   "outputs": [
    {
     "data": {
      "text/plain": [
       "array([0, 1, 2, 3, 4, 5])"
      ]
     },
     "execution_count": 15,
     "metadata": {},
     "output_type": "execute_result"
    }
   ],
   "source": [
    "x = np.arange(6)  \n",
    "x"
   ]
  },
  {
   "cell_type": "code",
   "execution_count": 17,
   "metadata": {
    "id": "39393133BBA64A6A8F6E5B83E5948894",
    "jupyter": {},
    "slideshow": {
     "slide_type": "slide"
    },
    "tags": []
   },
   "outputs": [
    {
     "data": {
      "text/plain": [
       "array([4. , 4.1, 4.2, 4.3, 4.4, 4.5, 4.6, 4.7, 4.8, 4.9])"
      ]
     },
     "execution_count": 17,
     "metadata": {},
     "output_type": "execute_result"
    }
   ],
   "source": [
    "x = np.arange(4,5,0.1)  \n",
    "x"
   ]
  },
  {
   "cell_type": "markdown",
   "metadata": {
    "id": "4C9183CC288F4EF9B0B747BD2AF70E24",
    "jupyter": {},
    "mdEditEnable": false,
    "slideshow": {
     "slide_type": "slide"
    },
    "tags": []
   },
   "source": [
    "你也可以使用`linspace` 函数创建一个一维数组，该数组是一个等差数列，格式如下：\n",
    "\n",
    "`np.linspace(start, stop, num=50, endpoint=True, retstep=False, dtype=None)`\n",
    "\n",
    "- `start`\t序列的起始值\n",
    "- `stop`\t序列的终止值，如果endpoint为true，该值包含于数列中\n",
    "- `num`\t要生成的等步长的样本数量，默认为50\n",
    "- `endpoint`\t该值为 ture 时，数列中中包含stop值，反之不包含，默认是True。\n",
    "- `retstep`\t如果为 True 时，生成的数组中会显示间距，反之不显示。\n",
    "- `dtype`\tndarray 的数据类型"
   ]
  },
  {
   "cell_type": "code",
   "execution_count": 47,
   "metadata": {
    "id": "BEC5EBA65BBC4FDBB7F88A6E00288EE5",
    "jupyter": {},
    "slideshow": {
     "slide_type": "slide"
    },
    "tags": []
   },
   "outputs": [
    {
     "data": {
      "text/plain": [
       "array([4.        , 4.11111111, 4.22222222, 4.33333333, 4.44444444,\n",
       "       4.55555556, 4.66666667, 4.77777778, 4.88888889, 5.        ])"
      ]
     },
     "execution_count": 47,
     "metadata": {},
     "output_type": "execute_result"
    }
   ],
   "source": [
    "x = np.linspace(4,5,10)\n",
    "x"
   ]
  },
  {
   "cell_type": "code",
   "execution_count": 49,
   "metadata": {
    "id": "D5FFEE9F49B04DA78BE1403D7F77DB7A",
    "jupyter": {},
    "slideshow": {
     "slide_type": "slide"
    },
    "tags": []
   },
   "outputs": [
    {
     "name": "stdout",
     "output_type": "stream",
     "text": [
      "(array([4.        , 4.11111111, 4.22222222, 4.33333333, 4.44444444,\n",
      "       4.55555556, 4.66666667, 4.77777778, 4.88888889, 5.        ]), 0.1111111111111111)\n"
     ]
    }
   ],
   "source": [
    "x = np.linspace(4,5,10,retstep=True)\n",
    "print(x)"
   ]
  },
  {
   "cell_type": "markdown",
   "metadata": {
    "id": "6109F4817F65410883AC8ABBC4B7F7B9",
    "jupyter": {},
    "mdEditEnable": false,
    "slideshow": {
     "slide_type": "slide"
    },
    "tags": []
   },
   "source": [
    "logspace 函数用于创建一个等比数列。格式如下：\n",
    "\n",
    "`np.logspace(start, stop, num=50, endpoint=True, base=10.0, dtype=None)`\n",
    "\n",
    "- `base`\t对数 log 的底数。"
   ]
  },
  {
   "cell_type": "code",
   "execution_count": 19,
   "metadata": {
    "id": "8F7222A1A3ED41928196727591025445",
    "jupyter": {},
    "slideshow": {
     "slide_type": "slide"
    },
    "tags": []
   },
   "outputs": [
    {
     "name": "stdout",
     "output_type": "stream",
     "text": [
      "[ 2.  4.  8. 16. 32. 64.]\n"
     ]
    }
   ],
   "source": [
    "x = np.logspace(1.0,  6, num = 6,base = 2)  \n",
    "print (x)"
   ]
  },
  {
   "cell_type": "markdown",
   "metadata": {},
   "source": [
    "此外，我们还可以从文件中读取数据到ndarray，不过这一块的功能常常使用后续课程要介绍的pandas进行实现，此处不再介绍。"
   ]
  },
  {
   "cell_type": "markdown",
   "metadata": {
    "id": "E5182D6D587A4394B1C086D7FBE70CA4",
    "jupyter": {},
    "mdEditEnable": false,
    "slideshow": {
     "slide_type": "slide"
    },
    "tags": []
   },
   "source": [
    "## 切片与索引\n",
    "\n",
    "### 基本切片操作\n",
    "ndarray对象的内容可以通过索引或切片来访问和修改，与list的切片操作是一样的。"
   ]
  },
  {
   "cell_type": "code",
   "execution_count": null,
   "metadata": {
    "id": "22920581E5DC411B930860D52300B640",
    "jupyter": {},
    "slideshow": {
     "slide_type": "slide"
    },
    "tags": []
   },
   "outputs": [],
   "source": [
    "a = np.arange(10)  \n",
    "b = a[2:7:2]   # 从索引 2 开始到索引 7 停止，间隔为 2\n",
    "b"
   ]
  },
  {
   "cell_type": "markdown",
   "metadata": {
    "id": "111F72FDEC774F0D87029E9B1F20194F",
    "jupyter": {},
    "mdEditEnable": false,
    "slideshow": {
     "slide_type": "slide"
    },
    "tags": []
   },
   "source": [
    "### 多维数组切片\n",
    "多维数组同样适用上述索引提取方法，切片还可以包括省略号:，来使选择元组的长度与数组的维度相同。"
   ]
  },
  {
   "cell_type": "code",
   "execution_count": null,
   "metadata": {
    "id": "6645D81BC9AA4D798EE145522CF1C468",
    "jupyter": {},
    "slideshow": {
     "slide_type": "slide"
    },
    "tags": []
   },
   "outputs": [],
   "source": [
    "a = np.array([[1,2,3],\n",
    "              [3,4,5],\n",
    "              [4,5,6]])  \n",
    "print (a)\n",
    "print (a[:,1])   # 第2列元素\n",
    "print (a[1,:])   # 第2行元素\n",
    "print (a[:,1:3])  # 第2列及剩下的所有元素"
   ]
  },
  {
   "cell_type": "markdown",
   "metadata": {
    "id": "E7D86E526E934227B6414AEBE57231AF",
    "jupyter": {},
    "mdEditEnable": false,
    "slideshow": {
     "slide_type": "slide"
    },
    "tags": []
   },
   "source": [
    "### 布尔索引\n",
    "我们可以通过一个布尔数组来索引目标数组。\n",
    "\n",
    "布尔索引通过布尔运算（如：比较运算符）来获取符合指定条件的元素的数组。\n",
    "\n",
    "以下实例获取大于 5 的元素："
   ]
  },
  {
   "cell_type": "code",
   "execution_count": null,
   "metadata": {
    "id": "5ED6D4E9C1DC495C8B958E51EF8020B4",
    "jupyter": {},
    "slideshow": {
     "slide_type": "slide"
    },
    "tags": []
   },
   "outputs": [],
   "source": [
    "x = np.array([[ 0,  1,  2],[  3,  4,  5],[  6,  7,  8],[  9,  10,  11]]) "
   ]
  },
  {
   "cell_type": "code",
   "execution_count": null,
   "metadata": {
    "id": "616969026CE6423F8666166EAC324D5D",
    "jupyter": {},
    "slideshow": {
     "slide_type": "slide"
    },
    "tags": []
   },
   "outputs": [],
   "source": [
    "x[x>2]"
   ]
  },
  {
   "cell_type": "code",
   "execution_count": null,
   "metadata": {
    "id": "D10D6BE1861D48918BC09B5249552198",
    "jupyter": {},
    "slideshow": {
     "slide_type": "slide"
    },
    "tags": []
   },
   "outputs": [],
   "source": [
    "x = np.array([[  0,  1,  2],[  3,  4,  5],[  6,  7,  8],[  9,  10,  11]])  \n",
    "print ('我们的数组是：')\n",
    "print (x)\n",
    "print ('\\n')\n",
    "\n",
    "print  ('大于 5 的元素是：')\n",
    "print (x[x > 5])\n",
    "print ('\\n')\n",
    "\n",
    "print (x>5)"
   ]
  },
  {
   "cell_type": "markdown",
   "metadata": {
    "id": "FF180C6D059C4637ABAB5E8398A1E41C",
    "jupyter": {},
    "mdEditEnable": false,
    "slideshow": {
     "slide_type": "slide"
    },
    "tags": []
   },
   "source": [
    "以下实例使用了 `~`（取补运算符）来过滤 NaN。"
   ]
  },
  {
   "cell_type": "code",
   "execution_count": null,
   "metadata": {
    "id": "AE88DA8F657D4C7185B714AA28A58444",
    "jupyter": {},
    "slideshow": {
     "slide_type": "slide"
    },
    "tags": []
   },
   "outputs": [],
   "source": [
    "a = np.array([np.nan, 1,2,np.nan,3,4,5])  \n",
    "print (a[~np.isnan(a)])"
   ]
  },
  {
   "cell_type": "markdown",
   "metadata": {
    "id": "71DF6D9CAA2E47B580C376FED705F816",
    "jupyter": {},
    "mdEditEnable": false,
    "slideshow": {
     "slide_type": "slide"
    },
    "tags": []
   },
   "source": [
    "## ndarray的操作方法\n",
    "\n",
    "NumPy常见的基本操作可以分为数组操作，数学函数操作，算术操作，统计函数操作和排序操作。"
   ]
  },
  {
   "cell_type": "markdown",
   "metadata": {
    "id": "F8113A7ED2CA40B69B4BDF965F9D6D3E",
    "jupyter": {},
    "mdEditEnable": false,
    "slideshow": {
     "slide_type": "slide"
    },
    "tags": []
   },
   "source": [
    "### 数组操作\n",
    "数组操作主要用来：\n",
    "- 修改数组形状\n",
    "- 翻转数组、修改数组维度\n",
    "- 连接、分割数组\n",
    "- 数组元素的添加与删除"
   ]
  },
  {
   "cell_type": "markdown",
   "metadata": {
    "id": "E9A66AF0D6E442B18FB324D6909D64F6",
    "jupyter": {},
    "mdEditEnable": false,
    "slideshow": {
     "slide_type": "slide"
    },
    "tags": []
   },
   "source": [
    "#### 修改数组形状\n",
    "\n",
    "- `reshape`\t不改变数据的条件下修改形状  \n",
    "`reshape` 函数可以在不改变数据的条件下修改形状，格式如下：\n",
    "\n",
    "`numpy.reshape(arr, newshape, order='C')`  \n",
    "\n",
    "其中：\n",
    "\n",
    "- `arr`：待修改形状的数组  \n",
    "- `newshape`：整数或者整数数组，新的形状应当兼容原有形状  \n",
    "- `order`：`'C'` -- 按行，`'F' `-- 按列，`'A'` -- 原顺序，`'k'` -- 元素在内存中的出现顺序"
   ]
  },
  {
   "cell_type": "code",
   "execution_count": 21,
   "metadata": {
    "id": "DF46841066144F45BDCDFD9391B99755",
    "jupyter": {},
    "slideshow": {
     "slide_type": "slide"
    },
    "tags": []
   },
   "outputs": [
    {
     "data": {
      "text/plain": [
       "array([[ 0,  1,  2,  3,  4],\n",
       "       [ 5,  6,  7,  8,  9],\n",
       "       [10, 11, 12, 13, 14],\n",
       "       [15, 16, 17, 18, 19],\n",
       "       [20, 21, 22, 23, 24],\n",
       "       [25, 26, 27, 28, 29],\n",
       "       [30, 31, 32, 33, 34],\n",
       "       [35, 36, 37, 38, 39],\n",
       "       [40, 41, 42, 43, 44],\n",
       "       [45, 46, 47, 48, 49],\n",
       "       [50, 51, 52, 53, 54],\n",
       "       [55, 56, 57, 58, 59],\n",
       "       [60, 61, 62, 63, 64],\n",
       "       [65, 66, 67, 68, 69],\n",
       "       [70, 71, 72, 73, 74],\n",
       "       [75, 76, 77, 78, 79],\n",
       "       [80, 81, 82, 83, 84],\n",
       "       [85, 86, 87, 88, 89],\n",
       "       [90, 91, 92, 93, 94],\n",
       "       [95, 96, 97, 98, 99]])"
      ]
     },
     "execution_count": 21,
     "metadata": {},
     "output_type": "execute_result"
    }
   ],
   "source": [
    "a = np.arange(100)\n",
    "np.reshape(a,(20,5))"
   ]
  },
  {
   "cell_type": "code",
   "execution_count": null,
   "metadata": {},
   "outputs": [],
   "source": [
    "## 注意区分以下两种操作的区别在于是否修改了原变量\n",
    "np.reshape(a,(20,5))\n",
    "a.reshape((20,5))"
   ]
  },
  {
   "cell_type": "markdown",
   "metadata": {
    "id": "2E387B13488B403F835C2C2B566E0040",
    "jupyter": {},
    "mdEditEnable": false,
    "slideshow": {
     "slide_type": "slide"
    },
    "tags": []
   },
   "source": [
    "`ndarray.flatten` 返回一份数组拷贝，对拷贝所做的修改不会影响原始数组。\n",
    "\n",
    "- `ndarray.flatten(order='C')`"
   ]
  },
  {
   "cell_type": "code",
   "execution_count": null,
   "metadata": {
    "id": "9275DCEB9F64400C8699207F45691B97",
    "jupyter": {},
    "slideshow": {
     "slide_type": "slide"
    },
    "tags": []
   },
   "outputs": [],
   "source": [
    "a = np.arange(9).reshape(3,3) \n",
    "a.flatten()"
   ]
  },
  {
   "cell_type": "code",
   "execution_count": null,
   "metadata": {
    "id": "EB2FD55AD7614498824B5FC8916029A1",
    "jupyter": {},
    "slideshow": {
     "slide_type": "slide"
    },
    "tags": []
   },
   "outputs": [],
   "source": [
    "a = np.arange(8).reshape(2,4)\n",
    " \n",
    "print ('原数组：')\n",
    "print (a)\n",
    " \n",
    "print ('展开的数组：')\n",
    "print (a.flatten())\n",
    " \n",
    "print ('以 F 风格顺序展开的数组：')\n",
    "print (a.flatten(order = 'F'))"
   ]
  },
  {
   "cell_type": "markdown",
   "metadata": {
    "id": "EAB50E21F64747058E3995E1605D1B40",
    "jupyter": {},
    "mdEditEnable": false,
    "slideshow": {
     "slide_type": "slide"
    },
    "tags": []
   },
   "source": [
    "#### 翻转数组\n",
    "\n",
    "- `transpose`\t对换数组的维度\n",
    "- `ndarray.T`\t和 `self.transpose()` 相同"
   ]
  },
  {
   "cell_type": "code",
   "execution_count": null,
   "metadata": {
    "id": "4944F66D2A314EDEBA0DD86B009DDFE9",
    "jupyter": {},
    "slideshow": {
     "slide_type": "slide"
    },
    "tags": []
   },
   "outputs": [],
   "source": [
    "a = np.arange(12).reshape(3,4)\n",
    " \n",
    "print ('原数组：')\n",
    "print (a)\n",
    "\n",
    "print ('对换数组：')\n",
    "print (np.transpose(a))\n",
    "\n",
    "print ('转置数组：')\n",
    "print (a.T)"
   ]
  },
  {
   "cell_type": "markdown",
   "metadata": {
    "id": "62133390B2224A35936DD3BCF9F0F6DF",
    "jupyter": {},
    "mdEditEnable": false,
    "slideshow": {
     "slide_type": "slide"
    },
    "tags": []
   },
   "source": [
    "#### 连接数组\n",
    "\n",
    "- `concatenate`\t连接沿现有轴的数组序列\n",
    "- `stack`\t沿着新的轴加入一系列数组\n",
    "- `hstack`\t水平堆叠序列中的数组（列方向）\n",
    "- `vstack`\t竖直堆叠序列中的数组（行方向）"
   ]
  },
  {
   "cell_type": "code",
   "execution_count": null,
   "metadata": {
    "id": "24EA44B561584D5F8C42BD4267625A4B",
    "jupyter": {},
    "slideshow": {
     "slide_type": "slide"
    },
    "tags": []
   },
   "outputs": [],
   "source": [
    "a = np.array([[1,2],[3,4]])\n",
    " \n",
    "print ('第一个数组：')\n",
    "print (a)\n",
    "print (a.shape)\n",
    "b = np.array([[5,6],[7,8]])\n",
    " \n",
    "print ('第二个数组：')\n",
    "print (b)\n",
    "print (b.shape)\n",
    "# 两个数组的维度相同\n",
    " \n",
    "print ('沿轴 0 连接两个数组：')\n",
    "print (np.concatenate((a,b)))\n",
    "print (np.concatenate((a,b)).shape)\n",
    " \n",
    "print ('沿轴 1 连接两个数组：')\n",
    "print (np.concatenate((a,b),axis = 1))\n",
    "print (np.concatenate((a,b),axis = 1).shape)"
   ]
  },
  {
   "cell_type": "code",
   "execution_count": null,
   "metadata": {
    "id": "836787578AF04BEA865A7FD6DF4552A3",
    "jupyter": {},
    "slideshow": {
     "slide_type": "slide"
    },
    "tags": []
   },
   "outputs": [],
   "source": [
    "print ('沿轴 0 堆叠两个数组：')\n",
    "print (np.stack((a,b),0))\n",
    "print (np.stack((a,b),0).shape)\n",
    "\n",
    "print ('沿轴 1 堆叠两个数组：')\n",
    "print (np.stack((a,b),1))\n",
    "print (np.stack((a,b),1).shape)"
   ]
  },
  {
   "cell_type": "code",
   "execution_count": null,
   "metadata": {
    "id": "38A8E9E23AE54ADA8F26415041529B52",
    "jupyter": {},
    "slideshow": {
     "slide_type": "slide"
    },
    "tags": []
   },
   "outputs": [],
   "source": [
    "print ('水平堆叠：')\n",
    "c = np.hstack((a,b))\n",
    "print (c)\n",
    "\n",
    "print ('竖直堆叠：')\n",
    "c = np.vstack((a,b))\n",
    "print (c)"
   ]
  },
  {
   "cell_type": "markdown",
   "metadata": {
    "id": "C6ED8D7819184BEB85A846A5C630ABD1",
    "jupyter": {},
    "mdEditEnable": false,
    "slideshow": {
     "slide_type": "slide"
    },
    "tags": []
   },
   "source": [
    "#### 分割数组\n",
    "\n",
    "- `split`\t将一个数组分割为多个子数组\n",
    "- `hsplit`\t将一个数组水平分割为多个子数组（按列）\n",
    "- `vsplit`\t将一个数组垂直分割为多个子数组（按行）"
   ]
  },
  {
   "cell_type": "code",
   "execution_count": null,
   "metadata": {
    "id": "E5D7237987734F1183CB168B09AC753E",
    "jupyter": {},
    "slideshow": {
     "slide_type": "slide"
    },
    "tags": []
   },
   "outputs": [],
   "source": [
    "a = np.arange(9)\n",
    " \n",
    "print ('第一个数组：')\n",
    "print (a)\n",
    "\n",
    "print ('将数组分为三个大小相等的子数组：')\n",
    "b = np.split(a,3)\n",
    "print (b)\n",
    " \n",
    "print ('将数组在一维数组中表明的位置分割：')\n",
    "b = np.split(a,[4,7])\n",
    "print (b)"
   ]
  },
  {
   "cell_type": "code",
   "execution_count": null,
   "metadata": {
    "id": "829F19EF2C5B463380B6795CD911E7BF",
    "jupyter": {},
    "slideshow": {
     "slide_type": "slide"
    },
    "tags": []
   },
   "outputs": [],
   "source": [
    "a = np.array([[1,2],[3,4]])\n",
    "print (a)\n",
    "print (a.shape)\n",
    "print ('hsplit拆分后：')\n",
    "print(np.hsplit(a, 2))\n",
    "print ('vsplit分割：')\n",
    "print(np.vsplit(a,2))"
   ]
  },
  {
   "cell_type": "markdown",
   "metadata": {
    "id": "AACF6E12800F4327823D3705FDA621B0",
    "jupyter": {},
    "mdEditEnable": false,
    "slideshow": {
     "slide_type": "slide"
    },
    "tags": []
   },
   "source": [
    "#### 数组元素的添加与删除\n",
    "- `resize`\t返回指定形状的新数组\n",
    "- `append`\t将值添加到数组末尾\n",
    "- `insert`\t沿指定轴将值插入到指定下标之前\n",
    "- `delete`\t删掉某个轴的子数组，并返回删除后的新数组"
   ]
  },
  {
   "cell_type": "code",
   "execution_count": null,
   "metadata": {
    "id": "C25261313D554038894909E7963008CD",
    "jupyter": {},
    "slideshow": {
     "slide_type": "slide"
    },
    "tags": []
   },
   "outputs": [],
   "source": [
    "a = np.array([[1,2,3],[4,5,6]])\n",
    " \n",
    "print ('第一个数组：')\n",
    "print (a)\n",
    " \n",
    "print ('第一个数组的形状：')\n",
    "print (a.shape)\n",
    "b = np.resize(a, (3,2))\n",
    "\n",
    "print ('第二个数组：')\n",
    "print (b)\n",
    " \n",
    "print ('第二个数组的形状：')\n",
    "print (b.shape)\n",
    "\n",
    " \n",
    "print ('修改第二个数组的大小：')\n",
    "b = np.resize(a,(3,3))\n",
    "print (b)\n",
    "# 要注意 a 的第一行在 b 中重复出现，因为尺寸变大了"
   ]
  },
  {
   "cell_type": "code",
   "execution_count": null,
   "metadata": {
    "id": "1C587200B5534D0B87B7274143975364",
    "jupyter": {},
    "slideshow": {
     "slide_type": "slide"
    },
    "tags": []
   },
   "outputs": [],
   "source": [
    "a = np.array([[1,2,3],[4,5,6]])\n",
    " \n",
    "print ('第一个数组：')\n",
    "print (a)\n",
    "\n",
    "print ('向数组添加元素：')\n",
    "print (np.append(a, [7,8,9]))\n",
    "\n",
    "print ('沿轴 0 添加元素：')\n",
    "print (np.append(a, [[7,8,9]],axis = 0))\n",
    "\n",
    "print ('沿轴 1 添加元素：')\n",
    "print (np.append(a, [[5,5,5],[7,8,9]],axis = 1))"
   ]
  },
  {
   "cell_type": "code",
   "execution_count": null,
   "metadata": {
    "id": "E5EF0EC21B4D4B1491336825BCEE847C",
    "jupyter": {},
    "slideshow": {
     "slide_type": "slide"
    },
    "tags": []
   },
   "outputs": [],
   "source": [
    "a = np.arange(12).reshape(3,4)\n",
    " \n",
    "print ('第一个数组：')\n",
    "print (a)\n",
    "\n",
    "print ('未传递 Axis 参数。 在插入之前输入数组会被展开。')\n",
    "print (np.delete(a,5))\n",
    "\n",
    "print ('删除第二列：')\n",
    "print (np.delete(a,1,axis = 1))\n",
    "\n",
    "print ('删除第二行：')\n",
    "print (np.delete(a,1,axis = 0))"
   ]
  },
  {
   "cell_type": "markdown",
   "metadata": {
    "id": "E159356D9C584F428313C35E00C5DC66",
    "jupyter": {},
    "mdEditEnable": false,
    "slideshow": {
     "slide_type": "slide"
    },
    "tags": []
   },
   "source": [
    "### 数学函数操作\n",
    "常见的数学函数如对数函数，三角函数，指数函数等都在NumPy中有提供，同时，还有一些舍入函数。这些函数操作的要点是它们都是**对于变量中的每个元素进行的**。"
   ]
  },
  {
   "cell_type": "markdown",
   "metadata": {
    "id": "77AC9AD4700D4A348D52DF2848636B5F",
    "jupyter": {},
    "mdEditEnable": false,
    "slideshow": {
     "slide_type": "slide"
    },
    "tags": []
   },
   "source": [
    "#### 普通数学函数"
   ]
  },
  {
   "cell_type": "code",
   "execution_count": null,
   "metadata": {
    "id": "3E0B1809CF1647278B56851395961786",
    "jupyter": {},
    "slideshow": {
     "slide_type": "slide"
    },
    "tags": []
   },
   "outputs": [],
   "source": [
    "a = np.array([0,30,45,60,90])\n",
    "print ('不同角度的正弦值：')\n",
    "# 通过乘 pi/180 转化为弧度  \n",
    "print (np.sin(a*np.pi/180))"
   ]
  },
  {
   "cell_type": "markdown",
   "metadata": {
    "id": "96C42F71C8624F0482BD1E7CE3B55A57",
    "jupyter": {},
    "mdEditEnable": false,
    "slideshow": {
     "slide_type": "slide"
    },
    "tags": []
   },
   "source": [
    "#### 舍入函数"
   ]
  },
  {
   "cell_type": "code",
   "execution_count": null,
   "metadata": {
    "id": "A0A2FFBB506B479F9B977953C5F5219B",
    "jupyter": {},
    "slideshow": {
     "slide_type": "slide"
    },
    "tags": []
   },
   "outputs": [],
   "source": [
    "a = np.array([1.0,5.55,  123,  0.567,  25.532])  \n",
    "print ('原数组：')\n",
    "print (a)\n",
    "print ('舍入后：')\n",
    "print (np.around(a))\n",
    "print (np.around(a, decimals =  1))"
   ]
  },
  {
   "cell_type": "markdown",
   "metadata": {
    "id": "613BFDF1DB7D4DE1A4BD59C7BDADB2B4",
    "jupyter": {},
    "mdEditEnable": false,
    "slideshow": {
     "slide_type": "slide"
    },
    "tags": []
   },
   "source": [
    "#### 算术操作\n",
    "NumPy 算术函数包含简单的加减乘除: add()，subtract()，multiply() 和 divide()等。你也可以用算术符号代替。\n",
    "\n",
    "需要注意的是数组必须具有相同的形状或符合**数组广播规则**，是都是对于变量中的每个对应的元素进行的。"
   ]
  },
  {
   "cell_type": "code",
   "execution_count": null,
   "metadata": {
    "id": "50E0750F10D842D5B66694A44DC077A2",
    "jupyter": {},
    "slideshow": {
     "slide_type": "slide"
    },
    "tags": []
   },
   "outputs": [],
   "source": [
    "a = np.arange(9, dtype = np.float_).reshape(3,3)  \n",
    "print ('第一个数组：')\n",
    "print (a)\n",
    "print ('第二个数组：')\n",
    "b = np.array([10,10,10])  \n",
    "print (b)\n",
    "print ('两个数组相加：')\n",
    "print (np.add(a,b))\n",
    "print (a + b)\n",
    "print ('两个数组相减：')\n",
    "print (np.subtract(a,b))\n",
    "print (a - b)\n",
    "print ('两个数组相乘：')\n",
    "print (np.multiply(a,b))\n",
    "print (a * b)\n",
    "print ('两个数组相除：')\n",
    "print (np.divide(a,b))\n",
    "print (a / b)\n",
    "print ('两个数组作指数运算：')\n",
    "print (np.power(a,b))\n",
    "print (a ** b)\n",
    "print ('两个数组作余数运算：')\n",
    "print ('调用 mod() 函数：')\n",
    "print (np.mod(a,b))\n",
    "print ('调用 remainder() 函数：')\n",
    "print (np.remainder(a,b))\n",
    "print (a % b)\n",
    "print ('两个数组作整除运算：')\n",
    "print (a // b)"
   ]
  },
  {
   "cell_type": "markdown",
   "metadata": {},
   "source": [
    "当运算中的 2 个数组的形状不同时，numpy 将自动触发广播机制。如："
   ]
  },
  {
   "cell_type": "code",
   "execution_count": 16,
   "metadata": {},
   "outputs": [
    {
     "data": {
      "text/plain": [
       "array([[0, 1, 2],\n",
       "       [1, 2, 3],\n",
       "       [2, 3, 4]])"
      ]
     },
     "execution_count": 16,
     "metadata": {},
     "output_type": "execute_result"
    }
   ],
   "source": [
    "a = np.array([0, 1, 2])\n",
    "b = np.array([[0], [1], [2]]) # 兩次廣播機制\n",
    "a+b"
   ]
  },
  {
   "cell_type": "code",
   "execution_count": 8,
   "metadata": {},
   "outputs": [
    {
     "ename": "ValueError",
     "evalue": "operands could not be broadcast together with shapes (4,3) (4,) ",
     "output_type": "error",
     "traceback": [
      "\u001b[1;31m---------------------------------------------------------------------------\u001b[0m",
      "\u001b[1;31mValueError\u001b[0m                                Traceback (most recent call last)",
      "Cell \u001b[1;32mIn[8], line 6\u001b[0m\n\u001b[0;32m      1\u001b[0m a \u001b[38;5;241m=\u001b[39m np\u001b[38;5;241m.\u001b[39marray([[ \u001b[38;5;241m0\u001b[39m, \u001b[38;5;241m0\u001b[39m, \u001b[38;5;241m0\u001b[39m],\n\u001b[0;32m      2\u001b[0m            [\u001b[38;5;241m10\u001b[39m,\u001b[38;5;241m10\u001b[39m,\u001b[38;5;241m10\u001b[39m],\n\u001b[0;32m      3\u001b[0m            [\u001b[38;5;241m20\u001b[39m,\u001b[38;5;241m20\u001b[39m,\u001b[38;5;241m20\u001b[39m],\n\u001b[0;32m      4\u001b[0m            [\u001b[38;5;241m30\u001b[39m,\u001b[38;5;241m30\u001b[39m,\u001b[38;5;241m30\u001b[39m]])\n\u001b[0;32m      5\u001b[0m b \u001b[38;5;241m=\u001b[39m np\u001b[38;5;241m.\u001b[39marray([\u001b[38;5;241m0\u001b[39m,\u001b[38;5;241m1\u001b[39m,\u001b[38;5;241m2\u001b[39m, \u001b[38;5;241m4\u001b[39m])\n\u001b[1;32m----> 6\u001b[0m \u001b[38;5;28mprint\u001b[39m(a \u001b[38;5;241m+\u001b[39m b)\n",
      "\u001b[1;31mValueError\u001b[0m: operands could not be broadcast together with shapes (4,3) (4,) "
     ]
    }
   ],
   "source": [
    "a = np.array([[ 0, 0, 0],\n",
    "           [10,10,10],\n",
    "           [20,20,20],\n",
    "           [30,30,30]])\n",
    "b = np.array([0,1,2])\n",
    "print(a + b) # 如果兩個數組在做運算時 有一個dim對的上 一個對不上 那我們就會 ??"
   ]
  },
  {
   "cell_type": "markdown",
   "metadata": {},
   "source": [
    "下面的图片展示了数组 b 如何通过广播来与数组 a 兼容。\n",
    "<img src=\"https://pan.imgbed.link/file/173599\" width=\"500\">"
   ]
  },
  {
   "cell_type": "markdown",
   "metadata": {},
   "source": [
    "4x3 的二维数组与长为 3 的一维数组相加，等效于把数组 b 在二维上重复 4 次再运算。"
   ]
  },
  {
   "cell_type": "markdown",
   "metadata": {},
   "source": [
    "广播的规则:\n",
    "\n",
    "- 让所有输入数组都向其中形状最长的数组看齐，形状中不足的部分都通过在前面加 1 补齐。\n",
    "- 输出数组的形状是输入数组形状的各个维度上的最大值。\n",
    "- 如果输入数组的某个维度和输出数组的对应维度的长度相同或者其长度为 1 时，这个数组能够用来计算，否则出错。\n",
    "- 当输入数组的某个维度的长度为 1 时，沿着此维度运算时都用此维度上的第一组值。\n",
    "\n",
    "简单理解：对两个数组，分别比较他们的每一个维度（若其中一个数组没有当前维度则忽略），满足：\n",
    "\n",
    "- 数组拥有相同形状。\n",
    "- 当前维度的值相等。\n",
    "- 当前维度的值有一个是 1。"
   ]
  },
  {
   "cell_type": "markdown",
   "metadata": {
    "id": "00F2849C8DA6448583E88F4E47F38355",
    "jupyter": {},
    "mdEditEnable": false,
    "slideshow": {
     "slide_type": "slide"
    },
    "tags": []
   },
   "source": [
    "#### 统计函数操作\n",
    "NumPy中包含了很多基本的统计操作。\n",
    "这些操作都可以添加`axis=`参数，变成对于某个维度求对应的值。"
   ]
  },
  {
   "cell_type": "code",
   "execution_count": null,
   "metadata": {
    "id": "3AE27BAE6D36481FAD9539CAE4D3DD7E",
    "jupyter": {},
    "slideshow": {
     "slide_type": "slide"
    },
    "tags": []
   },
   "outputs": [],
   "source": [
    "a = np.arange(1,10,dtype = np.float_).reshape(3,3) \n",
    "a"
   ]
  },
  {
   "cell_type": "code",
   "execution_count": null,
   "metadata": {
    "id": "5BFBFB9DA0424ABD838AEEC426C9534F",
    "slideshow": {
     "slide_type": "slide"
    },
    "tags": []
   },
   "outputs": [],
   "source": [
    "a = np.arange(1,10,dtype = np.float_).reshape(3,3) \n",
    "print ('原数组:',a)\n",
    "print ('最小值:',np.amin(a))\n",
    "print ('最大值:',np.amax(a))\n",
    "print ('（最大值 - 最小值）:',np.ptp(a))\n",
    "print ('百分位数:',np.percentile(a, 50))\n",
    "print ('中位数:',np.median(a))\n",
    "print ('均值:',np.mean(a,axis=1)) \n",
    "print ('均值:',np.mean(a,axis=0)) \n",
    "print ('加权均值:',np.average(a,weights = a))\n",
    "print ('标准差;',np.std(a))\n",
    "print ('方差:',np.var(a))"
   ]
  },
  {
   "cell_type": "markdown",
   "metadata": {
    "id": "DA19336800E346009A67757F76866282",
    "jupyter": {},
    "mdEditEnable": false,
    "slideshow": {
     "slide_type": "slide"
    },
    "tags": []
   },
   "source": [
    "#### 排序操作\n",
    "常用的排序函数有：\n",
    "- `sort` 直接排序\n",
    "- `argsort`  获得排序的索引值  \n",
    "\n",
    "默认的排序是升序，即从小到大。"
   ]
  },
  {
   "cell_type": "code",
   "execution_count": null,
   "metadata": {
    "id": "B4ED372D4CE34A78899269AD87E147E5",
    "slideshow": {
     "slide_type": "slide"
    },
    "tags": []
   },
   "outputs": [],
   "source": [
    "a = np.array([[3,7],[9,1]])  \n",
    "print ('我们的数组是：')\n",
    "print (a)\n",
    "print ('\\n')\n",
    "print ('调用 sort() 函数：')\n",
    "print (np.sort(a))\n",
    "print ('\\n')\n",
    "print ('按列排序：')\n",
    "print (np.sort(a, axis =  0))\n",
    "print ('\\n')"
   ]
  },
  {
   "cell_type": "code",
   "execution_count": null,
   "metadata": {
    "id": "77C3FC8E4BD34AEE8C3C1031D2633C4A",
    "jupyter": {},
    "slideshow": {
     "slide_type": "slide"
    },
    "tags": []
   },
   "outputs": [],
   "source": [
    "x = np.array([33,  11,  22])  \n",
    "print ('我们的数组是：')\n",
    "print (x)\n",
    "print ('\\n')\n",
    "print ('对 x 调用 argsort() 函数：')\n",
    "y = np.argsort(x)  \n",
    "print (y)"
   ]
  },
  {
   "cell_type": "markdown",
   "metadata": {
    "id": "5F7DB177927B43678F45C48B04CB13D5",
    "jupyter": {},
    "mdEditEnable": false,
    "slideshow": {
     "slide_type": "slide"
    },
    "tags": []
   },
   "source": [
    "## Numpy小练习"
   ]
  },
  {
   "cell_type": "markdown",
   "metadata": {},
   "source": [
    "使用numpy中的函数实现如下功能\n",
    "1. 使用`zeros`函数创建一个两行三列全零数组，变量名为`a`\n",
    "2. 将变量`a`的第二行第三列元素置为1，并把其元素类型改为字符型，修改后的变量名为`a1`\n",
    "2. 使用`arange`函数，创建一个包含从11到19的向量(共9个元素),变量名为`b`\n",
    "2. 使用`reshape`函数，将`b`中的向量变形为一个3*3的矩阵,变量名为`b1`\n",
    "2. 使用numpy中的函数写一段命令，对一个任意向量`c`进行归一化，将数组中所有的数字化到0～1，即最小的变成0，最大的变成1，最小与最大之间的等比例线性变换。用`c = np.array([1,2,3,4,5])`做例子。归一化以后的结果应该是`np.array([0.  , 0.25, 0.5 , 0.75, 1.  ])`\n",
    "2. 使用`linspace`函数，生成从1到100之间分布的100个数，存储变量名为`d`。将`d`中变形为一个10\\*10的矩阵,并对其每一列进行求和，得到一个size为1\\*10的求和结果，命名为`d1`\n",
    "4. 编写程序实现以下功能：\n",
    "    - 已知数组`arr1`为`[[0,1,2,3],[4,5,6,7],[8,9,10,11],[12,13,14,15]]`，将其在水平方向上分别分割2个数组和4个数组。分割后的变量名不做要求。\n",
    "    - 已知数组`arr2`为`[[0,1,2],[3,4,5],[6,7,8]]`，将其在垂直方向上进行分割成3个数组。分割后的变量名不做要求。"
   ]
  },
  {
   "cell_type": "code",
   "execution_count": 75,
   "metadata": {
    "id": "F29AEA550371416888ABB02EA17381B2",
    "jupyter": {},
    "slideshow": {
     "slide_type": "slide"
    },
    "tags": []
   },
   "outputs": [],
   "source": [
    "# 你的作业写在这里\n",
    "import numpy as np\n",
    "## 1. \n",
    "a = np.zeros((2, 3))\n",
    "\n",
    "## 2. \n",
    "a[1, 2] = 1\n",
    "a1 = a.astype(str)\n",
    "\n",
    "## 3. \n",
    "b = np.arange(11, 20)\n",
    "\n",
    "## 4.\n",
    "b1 = b.reshape((3,3))\n",
    "\n",
    "## 5. \n",
    "c = np.array([1, 2, 3, 4, 5])\n",
    "c = (c - np.min(c)) / (np.max(c) - np.min(c))\n",
    "\n",
    "## 6. 不能用廣播機制 廣播機制是\"放大\"\n",
    "d = np.linspace(1, 100, 100)\n",
    "\n",
    "# d1 = d.reshape((10, 10)) + np.zeros((10, 1))\n",
    "d1 = np.sum(d.reshape((10, 10)), axis=0)\n",
    "\n",
    "## 7. \n",
    "arr1 = np.array([[0, 1, 2, 3],\n",
    "                 [4, 5, 6, 7],\n",
    "                 [8, 9, 10, 11],\n",
    "                 [12, 13, 14, 15]])\n",
    "\n",
    "arr2 = np.array([[0, 1, 2],\n",
    "                 [3, 4, 5],\n",
    "                 [6, 7, 8]])\n",
    "\n",
    "new_arr1 = np.hsplit(arr1, 4)\n",
    "new_arr2 = np.vsplit(arr2, 3)\n"
   ]
  },
  {
   "cell_type": "code",
   "execution_count": null,
   "metadata": {},
   "outputs": [],
   "source": []
  }
 ],
 "metadata": {
  "kernelspec": {
   "display_name": "Python 3 (ipykernel)",
   "language": "python",
   "name": "python3"
  },
  "language_info": {
   "codemirror_mode": {
    "name": "ipython",
    "version": 3
   },
   "file_extension": ".py",
   "mimetype": "text/x-python",
   "name": "python",
   "nbconvert_exporter": "python",
   "pygments_lexer": "ipython3",
   "version": "3.12.7"
  }
 },
 "nbformat": 4,
 "nbformat_minor": 4
}
