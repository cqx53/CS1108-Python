{
 "cells": [
  {
   "cell_type": "markdown",
   "id": "4ad524c1-d3ad-4c1b-9a4f-e05321cca56c",
   "metadata": {},
   "source": [
    "# Python基础"
   ]
  },
  {
   "cell_type": "markdown",
   "id": "356e7beb-5aa7-4728-bc76-282262273739",
   "metadata": {
    "editable": true,
    "slideshow": {
     "slide_type": ""
    },
    "tags": []
   },
   "source": [
    "## 环境配置：Anaconda安装"
   ]
  },
  {
   "cell_type": "markdown",
   "id": "4c982e10-acfc-426e-b1a5-57b3633124ca",
   "metadata": {},
   "source": [
    "**Anaconda**是一个包含众多科学计算包及其依赖项的Python发行版本。其包含的库包括：**numpy, pandas, scipy, sklearn,jupyter notebook**等。\n",
    "\n",
    "安装**Anaconda**能快速搭建数据分析的环境，并方便日后管理多个Python环境。"
   ]
  },
  {
   "cell_type": "markdown",
   "id": "06393456-f110-4e38-9d0d-32125ff62881",
   "metadata": {},
   "source": [
    "前几次课程的内容对于计算性能要求不高，大家若没有完成本地Anaconda安装，可以暂时使用在线的Jupyter notebook服务\n",
    "\n",
    "* [jupyter notebook 在线试用](https://jupyter.org/try)\n",
    "* [google colab](https://colab.research.google.com/)\n",
    "\n",
    "后续的某些课程内容包括项目实战环节，可能需要使用本地的数据，请大家也尽可能也在自己的电脑上安装好。"
   ]
  },
  {
   "cell_type": "markdown",
   "id": "db53bfac-96d2-4177-be38-ee6637ee3cc2",
   "metadata": {},
   "source": [
    "## Jupyter Notebook的启动"
   ]
  },
  {
   "cell_type": "markdown",
   "id": "73326a9b-ba3b-4da1-804f-7dca283afdc2",
   "metadata": {},
   "source": [
    "启动方式（以下三种三选一）：\n",
    "1. 打开Anaconda，找到`jupyter notebook`，点击lauch。旁边的jupyter lab也是类似的功能。\n",
    "\n",
    "<img src=\"https://pan.imgbed.link/file/173600\" width=550>\n",
    "\n",
    "\n",
    "2. 打开命令行Anaconda Prompt，输入`jupyter notebook`，回车\n",
    "3. Windows搜索Jupyter notebook，点击logo打开"
   ]
  },
  {
   "cell_type": "markdown",
   "id": "6beb14c1-51d6-448b-8fa5-bc1f9fac9989",
   "metadata": {},
   "source": [
    "## Jupyter Notebook默认工作路径配置"
   ]
  },
  {
   "cell_type": "markdown",
   "id": "2ac5bbdd-5abe-4c0a-8d39-7837dc3831a9",
   "metadata": {},
   "source": [
    "首次打开jupyter notebook，默认的路径一般是在`C:\\Users\\你的用户名`。这给后续的有一些操作可能带来不便，如需要修改修改默认的打开路径，windows下的操作步骤如下（macOS的操作类似，可自行上网搜索）：\n",
    "- 打开 Anaconda Prompt\n",
    "- 输入`jupyter notebook --generate-config`生成配置文件\n",
    "- 这个命令将会在用户的目录(`C:\\Users\\你的用户名\\.jupyter`)下生成一个名为`jupyter_notebook_config.py`的配置文件。打开这个文件，找到以下代码行：\n",
    "- `# c.ServerApp.root_dir = r'D:/notebooks'`\n",
    "- 去掉注释用的井号，顶格书写。将其修改为：`c.ServerApp.root_dir = r'你的路径'`，如`c.ServerApp.root_dir =  r'D:/notebooks'`\n",
    "- 完成上述流程后。此外，选中Jupyter Notebook的快捷方式，鼠标右键-属性-快捷方式-目标，删除目标里的`\"%USERPROFILE%/\"`这一行语句，即删除`.py`后的后缀内容。\n",
    "- 此后打开jupyter notebook会默认进入你设定的路径"
   ]
  },
  {
   "cell_type": "markdown",
   "id": "d78b503b-39f9-41b5-a991-77f7e70610ca",
   "metadata": {},
   "source": [
    "查看当前路径的方法： `pwd`命令 （print working directory）"
   ]
  },
  {
   "cell_type": "code",
   "execution_count": null,
   "id": "bd39063d-7728-4698-bc2d-bc3726254655",
   "metadata": {},
   "outputs": [],
   "source": [
    "pwd"
   ]
  },
  {
   "cell_type": "markdown",
   "id": "300e9d10-c831-4655-847c-161663c22231",
   "metadata": {},
   "source": [
    "## Jupyter Notebook的使用"
   ]
  },
  {
   "cell_type": "markdown",
   "id": "611a995c-f417-47f1-9542-cf5d62a2da78",
   "metadata": {},
   "source": [
    "<div class=\"alert alert-block alert-success\">\n",
    "<b>快速入门:</b> \n",
    "想要运行一个代码段（cell）,你可以点击菜单栏的<b>运行</b>,或者也可以使用以下快捷键\n",
    "<ul>\n",
    " <li> Ctrl+Enter</li>  \n",
    "   <li>Shift+Enter</li>    \n",
    "</ul>  \n",
    "</div>\n",
    "\n"
   ]
  },
  {
   "cell_type": "code",
   "execution_count": null,
   "id": "defa6372-73ab-40dd-b8f1-86411b50681e",
   "metadata": {},
   "outputs": [],
   "source": [
    "print('hello world')"
   ]
  },
  {
   "cell_type": "markdown",
   "id": "63ad44f7-3af4-4aad-9853-a095b43100f1",
   "metadata": {},
   "source": [
    "Cell 的两种格式：\n",
    "- **markdown** 用于书写文本、公式、图片、链接等。除了基础的markdown语法支持以外，也支持部分html的语法。可用于撰写数据分析的文本内容，以及展示不方便使用通过简单注释解释的内容\n",
    "- **code** 编写代码\n",
    "两种格式的切换方法：选中cell以后在下拉菜单中选择，或是直接使用快捷键`M`修改为markdown，`Y`修改为code"
   ]
  },
  {
   "cell_type": "markdown",
   "id": "4e6ad154-10b9-44ef-b8d1-3601204df66a",
   "metadata": {},
   "source": [
    "<div class=\"alert alert-block alert-success\">\n",
    "<b>markdown语法介绍：</b> https://support.typoraio.cn/zh/Markdown-Reference/\n",
    "</div>\n",
    "\n",
    "\n",
    "\n",
    "\n"
   ]
  },
  {
   "cell_type": "markdown",
   "id": "88e41950-114a-493f-b69f-5088ad528963",
   "metadata": {},
   "source": [
    "常用的键盘快捷键:\n",
    "\n",
    "* ↑和↓ ： 切换代码框（cell）\n",
    "* `shift + enter`: 运行当前cell并挪动到下一个cell\n",
    "* `ctrl + enter` ：运行当前cell，保持在当前cell\n",
    "* `b` : 在当前cell下面插入新cell\n",
    "* `a` : 在当前cell上面插入新cell\n",
    "* `dd` (敲击d键两下): 删除当前cell\n",
    "* `m` : 将当前cell由code模式转换成markdown模式\n",
    "* `y` : 将当前cell由markdown模式转换成code模式\n",
    "* `z` 删除cell后的撤回\n",
    "* `ctrl+z` cell内部的编辑撤回\n",
    "* `c` 复制cell\n",
    "* `v` 在下方粘贴cell\n",
    "\n",
    "<div class=\"alert alert-block alert-success\">\n",
    "更多快捷键可以访问Help/Show KeyBoard ShortsCuts获取  \n",
    "</div>\n"
   ]
  },
  {
   "cell_type": "markdown",
   "id": "4616c8fd-9f2b-4394-934c-1522b9f453d8",
   "metadata": {},
   "source": [
    "## 练习：上手jupyter notebook操作\n",
    "\n",
    "1. 鼠标单击选中下面的代码块，快捷键`shift + enter`执行该代码块\n",
    "2. 自由使用快捷键和命令，尝试:增加cell`a`、复制cell`c`、粘贴cell`v`、删除cell`dd`、删除cell后的撤回`z`、编辑cell后的撤回`ctrl+z`等各种操作"
   ]
  },
  {
   "cell_type": "code",
   "execution_count": null,
   "id": "0c94305f-b54e-4c64-ace2-04d73dfc419f",
   "metadata": {
    "editable": true,
    "slideshow": {
     "slide_type": ""
    },
    "tags": []
   },
   "outputs": [],
   "source": [
    "# 绘制简单散点图\n",
    "import matplotlib.pyplot as plt\n",
    "x = [1,2,3,4,5]\n",
    "y = [1,3,4,2,1]\n",
    "plt.plot(x,y,'-o')"
   ]
  },
  {
   "cell_type": "code",
   "execution_count": null,
   "id": "416ca29a-151d-4bf4-83ea-3c1043bb5c96",
   "metadata": {
    "editable": true,
    "slideshow": {
     "slide_type": ""
    },
    "tags": []
   },
   "outputs": [],
   "source": [
    "import plotly.express as px\n",
    "\n",
    "z = [[.1, .3, .5, .7, .9],\n",
    "     [1, .8, .6, .4, .2],\n",
    "     [.2, 0, .5, .7, .9],\n",
    "     [.9, .8, .4, .2, 0],\n",
    "     [.3, .4, .5, .7, 1]]\n",
    "\n",
    "fig = px.imshow(z, text_auto=True)\n",
    "fig.show()"
   ]
  },
  {
   "cell_type": "markdown",
   "id": "43e4e9eb-7731-4c1e-98e4-b696b7162e51",
   "metadata": {
    "editable": false,
    "slideshow": {
     "slide_type": ""
    },
    "tags": []
   },
   "source": [
    "<div class=\"alert alert-block alert-success\">\n",
    "<b>补充内容:环境的新建和库安装</b> \n",
    "\n",
    "安装Anaconda后，默认打开的环境为base环境，如果你需要创建新的环境用于调试和开发，或者不希望你的操作影响到base环境，你也可以新建其他的环境，方法如下：\n",
    "\n",
    "<ul>\n",
    "<li> 打开终端（在 Windows 上可以使用 Anaconda Prompt 或者 PowerShell）  </li>  \n",
    "<li> 使用以下命令创建一个新的环境，指定 Python 版本（例如 3.12）。其中 myenv 是你想要给新环境起的名字，可以根据需要更改。 <code>conda create --name myenv python=3.12</code>  </li>  \n",
    "<li> 激活新创建的环境： <code>conda activate myenv</code>  </li>  \n",
    "<li> 将该环境加入到jupyter notebook中: <code>python -m ipykernel install --user --name myenv --display-name \"Python (myenv)\"</code>  </li>  \n",
    "<li> 你可以使用以下命令查看当前环境安装的包 <code>conda list</code>\n",
    "<li> 你可以使用以下命令查看当前所有的环境\n",
    "   <code>conda env list</code> </li>   \n",
    "<li> 要退出当前环境，可以使用以下命令\n",
    "   <code>conda deactivate</code> </li>   \n",
    "</ul>\n",
    "\n",
    "\n",
    "\n",
    "新建的环境往往缺少必要的库，需要安装。安装库的方法有很多种，例如通过pip或者conda安装，这里我们介绍使用conda的安装方法。\n",
    "<ul>\n",
    "<li>运行以下命令添加清华大学的镜像源。这样就可以使用清华大学的镜像源来加速 conda 包的下载和安装了\n",
    "<pre><code>conda config --add channels https://mirrors.tuna.tsinghua.edu.cn/anaconda/pkgs/free/\n",
    "conda config --add channels https://mirrors.tuna.tsinghua.edu.cn/anaconda/pkgs/main/\n",
    "conda config --set show_channel_urls yes</code> </pre> </li>\n",
    "<li> 运行以下命令查看配置是否成功 <code>conda config --show </code> </li>\n",
    "<li> 激活对应环境后，使用如下命令来安装<code>conda install numpy </code> </li>\n",
    "</ul>\n",
    "\n",
    "在 Jupyter Notebook 界面中，点击 \"Kernel\" 菜单，然后选择 \"Change kernel\"。在下拉菜单中选择你刚刚添加的内核（例如 \"Python (myenv)\"）。即可使用新的内核进行调试和开发。\n",
    "\n",
    "</div>\n"
   ]
  },
  {
   "cell_type": "markdown",
   "id": "1f868bbf-7436-450b-a247-3979c253e408",
   "metadata": {
    "editable": true,
    "slideshow": {
     "slide_type": ""
    },
    "tags": []
   },
   "source": [
    "# Python语法基础回顾"
   ]
  },
  {
   "cell_type": "markdown",
   "id": "d5f5eb38-6c7b-440d-8a83-c53f9d8b49b2",
   "metadata": {},
   "source": [
    "本节课程不是Python的语法基础课，因此本节课我们队基础语法**仅做要点概述**，没有相关学习经验的同学可以通过自学补齐一些相关基础。\n",
    "\n",
    "比如你可以通过[RUNOOB菜鸟教程](https://www.runoob.com/python/python-tutorial.html)进行学习。\n"
   ]
  },
  {
   "cell_type": "markdown",
   "id": "1b08a186-b941-46d6-9244-578768c96ae0",
   "metadata": {},
   "source": [
    "## 输入输出、注释"
   ]
  },
  {
   "cell_type": "code",
   "execution_count": null,
   "id": "5d22471c-be33-4a77-8acb-7d9318acc9c5",
   "metadata": {
    "editable": true,
    "slideshow": {
     "slide_type": ""
    },
    "tags": []
   },
   "outputs": [],
   "source": [
    "# 以下为变量的赋值，其中 # 井号后面是单行注释\n",
    "# 当需要注释多行时，可以在前后使用三个连续单引号`'''`或三个连续双引号`\"\"\"`\n",
    "\n",
    "'''\n",
    "这里是\n",
    "多行注释\n",
    "'''\n",
    "\n",
    "\"\"\"\n",
    "这里也是\n",
    "多行注释\n",
    "\"\"\"\n",
    "\n",
    "\n",
    "a = 'sjtu'\n",
    "print(a)\n",
    "a"
   ]
  },
  {
   "cell_type": "markdown",
   "id": "33f8c98e-5282-4f86-a5d0-351d4c42ae00",
   "metadata": {},
   "source": [
    "`print()`会打印显示一些文本和结果，便于展示中间数据或辅助调试"
   ]
  },
  {
   "cell_type": "code",
   "execution_count": null,
   "id": "860796c9-fc17-4b77-b5c8-0c8c56fd59df",
   "metadata": {},
   "outputs": [],
   "source": [
    "import time # 导入time库，time 库是 Python 的标准库之一，用于处理时间相关的任务，其官方文件详见：https://docs.python.org/3/library/time.html\n",
    "print('Hello World!')\n",
    "print('现在是 ' + time.strftime(\"%Y-%m-%d %H:%M:%S\", time.localtime()))"
   ]
  },
  {
   "cell_type": "markdown",
   "id": "1a2d271c-be6a-414b-8bd3-66290cf8ca9a",
   "metadata": {},
   "source": [
    "在 **Jupyter notebook** 这种交互式的编程中，即使不使用`print()`, 每个cell也会自动打印最后一行的返回值。\n",
    "\n",
    "除了数值和文本以外，`print()`也可以打印显示列表、字典等复合的类型变量，可以用`,`分隔多个打印对象\n",
    "\n",
    "此外，`input()`会弹出会话框，请求一个输入，并将会话的输入作为input函数的输出。"
   ]
  },
  {
   "cell_type": "code",
   "execution_count": null,
   "id": "99cdc028-0c23-487f-9d01-6d63a2896d79",
   "metadata": {},
   "outputs": [],
   "source": [
    "a = input(\"what's the time now? \") # a的取值来源于input输入，输入的数据类型默认为字符串\n",
    "print(type(a))\n",
    "print(\"it's \"+ a + \" now\")"
   ]
  },
  {
   "cell_type": "markdown",
   "id": "50302b2b-7e4e-4aab-9bba-eef412732413",
   "metadata": {},
   "source": [
    "## 基础变量类型"
   ]
  },
  {
   "cell_type": "markdown",
   "id": "e2c31d50-d09d-4b6c-a837-be7433a22edb",
   "metadata": {},
   "source": [
    "Python的标准数据类型:\n",
    "1. numbers（数字）\n",
    "1. string（字符串）\n",
    "3. list（列表）\n",
    "4. tuple（元组）\n",
    "5. sets（集合）\n",
    "6. dictionary（字典）\n",
    "\n",
    "可以用`type`函数，查看某一个变量的类型。"
   ]
  },
  {
   "cell_type": "code",
   "execution_count": null,
   "id": "31f4bb69-1936-44c3-901c-abd6222b3db3",
   "metadata": {},
   "outputs": [],
   "source": [
    "university = 'sjtu'\n",
    "type(university)"
   ]
  },
  {
   "cell_type": "markdown",
   "id": "d720cb0d-e1d8-405f-b7ae-e7142722eb3c",
   "metadata": {},
   "source": [
    "### Numbers（数字）\n",
    "\n",
    "数值型用于存储数值。支持四种不同的数字类型：\n",
    "\n",
    "- **int（有符号整型）**：可以是正整数或负整数，不带小数点。\n",
    "- **float（浮点型）**：浮点型由整数部分与小数部分组成\n",
    "- **bool （布尔型）**：`True`和`False`\n",
    "- **complex（虚数）**：复数由实数部分和虚数部分构成，可以用`a + bj`,或者`complex(a,b)`表示， 复数的实部a和虚部b都是浮点型。"
   ]
  },
  {
   "cell_type": "code",
   "execution_count": null,
   "id": "8cb544f4-e1a5-43dd-bef7-4663bb2ce5b2",
   "metadata": {},
   "outputs": [],
   "source": [
    "a = 30 # 整数默认用整形\n",
    "type(a)"
   ]
  },
  {
   "cell_type": "code",
   "execution_count": null,
   "id": "2755bc12-0c12-4c95-80b6-1cf0fcd6b306",
   "metadata": {},
   "outputs": [],
   "source": [
    "b = 10.2 # 小数默认用浮点型\n",
    "type(b)"
   ]
  },
  {
   "cell_type": "code",
   "execution_count": null,
   "id": "6b4d7e62-53b6-4ec6-8ed5-a73847d71596",
   "metadata": {},
   "outputs": [],
   "source": [
    "c = True # bool类型有两个取值：True or False\n",
    "type(c)"
   ]
  },
  {
   "cell_type": "code",
   "execution_count": null,
   "id": "c041e5d9-d003-49b9-918d-f0126aa912c0",
   "metadata": {},
   "outputs": [],
   "source": [
    "d = 1+2j\n",
    "type(d)"
   ]
  },
  {
   "cell_type": "markdown",
   "id": "6e2623cd-6e9f-44a9-858a-39231926bedf",
   "metadata": {},
   "source": [
    "**四类运算符**\n",
    "\n",
    "1. 算术运算符用于基本数值计算\n",
    "\n",
    "运算符\t| 描述\n",
    ":----: |:----:\n",
    "\\+\t| 加\n",
    "\\-\t| 减\n",
    "\\*\t| 乘\n",
    "/\t| 除\t\n",
    "%\t| 取模（余数）\t\n",
    "\\**\t| 幂\n",
    "//\t| 取整除（向下取整）"
   ]
  },
  {
   "cell_type": "code",
   "execution_count": null,
   "id": "9ed0ba31-2cef-4bd2-b417-70e2ee8182fb",
   "metadata": {},
   "outputs": [],
   "source": [
    "10//3  # 求整除（向下取整）"
   ]
  },
  {
   "cell_type": "code",
   "execution_count": null,
   "id": "6b5cc522-eb1f-499b-aee0-3bd4bac8b02c",
   "metadata": {},
   "outputs": [],
   "source": [
    "10%3  # 求余数"
   ]
  },
  {
   "cell_type": "markdown",
   "id": "d3f9b2b2-da7d-429d-8942-b82ac57f9959",
   "metadata": {},
   "source": [
    "2. 比较运算符可以比较两个值，返回布尔变量`True`或者`False` \n",
    "\n",
    "运算符 | 描述\n",
    ":----: |:----:\n",
    "==  | 等于\n",
    "!=\t| 不等于\n",
    "\\>\t| 大于\n",
    "\\<\t| 小于\n",
    "\\>=\t| 大于等于\n",
    "\\<=\t| 小于等于"
   ]
  },
  {
   "cell_type": "code",
   "execution_count": null,
   "id": "bfc50f61-0c5b-4b01-b8e1-4fb39beee005",
   "metadata": {},
   "outputs": [],
   "source": [
    "import math\n",
    "math.pi**2>9.8"
   ]
  },
  {
   "cell_type": "markdown",
   "id": "aa19ca87-715e-456a-8cbb-9fe86d8e69ec",
   "metadata": {},
   "source": [
    "3. 赋值运算符对变量进行赋值\n",
    "\n",
    "运算符\t| 描述\t| 解释\n",
    ":----: |:----:|:----:\n",
    "=\t| 简单的赋值运算符|\t将 a + b 的运算结果赋值为 c\n",
    "+=|\t加法赋值运算符\t|c += a 等效于 c = c + a\n",
    "-=\t|减法赋值运算符\t|c -= a 等效于 c = c - a\n",
    "\\*=\t|乘法赋值运算符\t|c \\*= a 等效于 c = c * a\n",
    "/=\t|除法赋值运算符|\tc /= a 等效于 c = c / a\n",
    "%=\t|取模赋值运算符|\tc %= a 等效于 c = c % a\n",
    "\\*\\*=\t|幂赋值运算符|\tc \\*\\*= a 等效于 c = c \\*\\* a\n",
    "//=|\t取整除赋值运算符\t|c //= a 等效于 c = c // a\n"
   ]
  },
  {
   "cell_type": "code",
   "execution_count": null,
   "id": "b66f8a56-2e8d-454f-9070-567941dde173",
   "metadata": {},
   "outputs": [],
   "source": [
    "x = 2\n",
    "x *= 6\n",
    "print(x)"
   ]
  },
  {
   "cell_type": "markdown",
   "id": "c07b6d6e-c017-4316-a852-e8d64dc097d1",
   "metadata": {},
   "source": [
    "4. 逻辑运算符对布尔变量进行操作,返回值也是布尔变量\n",
    "\n",
    "|运算符|\t逻辑表达式|\t描述|\n",
    "|:----: |:----:|:----:|\n",
    "| and\t| x and y | 布尔\"与\" |\n",
    "| or | x or y |\t布尔\"或\" |\n",
    "| not| not x |\t布尔\"非\" |\n"
   ]
  },
  {
   "cell_type": "code",
   "execution_count": null,
   "id": "26689730-50e8-441e-a2d6-7c85e9b629d0",
   "metadata": {},
   "outputs": [],
   "source": [
    "a = 5\n",
    "(a < 4) or (a>2)"
   ]
  },
  {
   "cell_type": "markdown",
   "id": "f10f9512-19c9-4dfb-9b19-30d4c1a0f061",
   "metadata": {},
   "source": [
    "### String（字符串）"
   ]
  },
  {
   "cell_type": "markdown",
   "id": "e4ea5942-6fca-4d34-b10b-1ad86946fb25",
   "metadata": {},
   "source": [
    "字符串是字符的序列。字符串需要使用单引号`' '`或双引号`\" \"`括起来。"
   ]
  },
  {
   "cell_type": "code",
   "execution_count": 5,
   "id": "5c4b607f-3686-45ab-8ec7-1ca0e3d9267c",
   "metadata": {},
   "outputs": [
    {
     "data": {
      "text/plain": [
       "str"
      ]
     },
     "execution_count": 5,
     "metadata": {},
     "output_type": "execute_result"
    }
   ],
   "source": [
    "string_a = 'Welcome to data science!'\n",
    "type(string_a)"
   ]
  },
  {
   "cell_type": "markdown",
   "id": "497be6db-141b-4719-8cda-aacbf79251aa",
   "metadata": {},
   "source": [
    "使用`len()`函数获得字符串的长度，这里的`len()`是python内置函数。可以通过`? len`获取帮助。当然使用AI提问也是不错的选择"
   ]
  },
  {
   "cell_type": "code",
   "execution_count": null,
   "id": "ba44a43e-7d67-4076-b8ce-ca77b30182b4",
   "metadata": {},
   "outputs": [],
   "source": [
    "len(string_a)"
   ]
  },
  {
   "cell_type": "code",
   "execution_count": null,
   "id": "c7584f87-c347-45c6-bba7-95d58694c365",
   "metadata": {},
   "outputs": [],
   "source": [
    "? len"
   ]
  },
  {
   "cell_type": "markdown",
   "id": "769d6d75-852d-4abd-8a6d-281caa18a541",
   "metadata": {},
   "source": [
    "字符串可以通过`+`进行拼接"
   ]
  },
  {
   "cell_type": "code",
   "execution_count": null,
   "id": "e9e0d035-a28a-405f-9c5d-ac31af88db70",
   "metadata": {},
   "outputs": [],
   "source": [
    "string_a + ' Wish you a happy journey!'"
   ]
  },
  {
   "cell_type": "markdown",
   "id": "c5495530-45e9-4fb6-a415-270d6ae38827",
   "metadata": {},
   "source": [
    "字符串可以被视作从左到右的字符序列，使用字符在序列中的序号，可以索引到对应字符，或对字符串进行切片。"
   ]
  },
  {
   "cell_type": "code",
   "execution_count": null,
   "id": "6a3ea383-bf0f-466b-bb10-fc2e786ae22a",
   "metadata": {},
   "outputs": [],
   "source": [
    "string_a[3] #单个序号表示索引,从0开始计数"
   ]
  },
  {
   "cell_type": "markdown",
   "id": "e3363936-55af-4d81-9527-c2eebfc68361",
   "metadata": {},
   "source": [
    "`:`分隔表示切片，格式为`start:end:step`。`step`默认为1，此时切片格式可简化为`start:end`"
   ]
  },
  {
   "cell_type": "code",
   "execution_count": 7,
   "id": "54da2729-baaa-47f5-820b-77622f0ee41a",
   "metadata": {},
   "outputs": [
    {
     "data": {
      "text/plain": [
       "'Welcome'"
      ]
     },
     "execution_count": 7,
     "metadata": {},
     "output_type": "execute_result"
    }
   ],
   "source": [
    "string_a[0:7] #区间为[a,b),索引切片包括第a位，但不包括第b位"
   ]
  },
  {
   "cell_type": "code",
   "execution_count": 9,
   "id": "b2292e9a-2f9d-484b-9e5e-eec5bc29950f",
   "metadata": {},
   "outputs": [
    {
     "data": {
      "text/plain": [
       "'Wloe'"
      ]
     },
     "execution_count": 9,
     "metadata": {},
     "output_type": "execute_result"
    }
   ],
   "source": [
    "string_a[0:7:2] #步长为2"
   ]
  },
  {
   "cell_type": "code",
   "execution_count": null,
   "id": "82659fb9-5068-428c-8d7c-27c485926281",
   "metadata": {},
   "outputs": [],
   "source": [
    "string_a[::-1] #步长为-1,即字符串逆序"
   ]
  },
  {
   "cell_type": "markdown",
   "id": "33d99b87",
   "metadata": {},
   "source": [
    "字符串的split 和join操作：\n",
    "`split()`分割字符串为列表，`join()`将列表连接为字符串"
   ]
  },
  {
   "cell_type": "code",
   "execution_count": 11,
   "id": "45e29c57",
   "metadata": {},
   "outputs": [
    {
     "data": {
      "text/plain": [
       "['mail', 'sjtu', 'edu', 'cn']"
      ]
     },
     "execution_count": 11,
     "metadata": {},
     "output_type": "execute_result"
    }
   ],
   "source": [
    "string_b = 'mail.sjtu.edu.cn'\n",
    "splitted = string_b.split('.')\n",
    "splitted"
   ]
  },
  {
   "cell_type": "code",
   "execution_count": 13,
   "id": "e3063227",
   "metadata": {},
   "outputs": [
    {
     "data": {
      "text/plain": [
       "'mail。sjtu。edu。cn'"
      ]
     },
     "execution_count": 13,
     "metadata": {},
     "output_type": "execute_result"
    }
   ],
   "source": [
    "'。'.join(splitted)"
   ]
  },
  {
   "cell_type": "markdown",
   "id": "44202004-8899-4c1b-a585-2cbe52eaa391",
   "metadata": {},
   "source": [
    "我们在输出计算结果（尤其是数值结果）的时候，常常会用到**格式化字符串**，用于控制数字的显示格式，例如指定小数点位数、对齐方式、填充字符等。"
   ]
  },
  {
   "cell_type": "code",
   "execution_count": null,
   "id": "3feae21d-143f-45e8-be42-1ee162e81392",
   "metadata": {},
   "outputs": [],
   "source": [
    "# 指定小数点位数\n",
    "pi = 3.141592653589793\n",
    "formatted_string = \"Pi is approximately {:.4f}\".format(pi) # 坑用大括號來標示\n",
    "print(formatted_string)  # 输出: Pi is approximately 3.1416\n",
    "# 指定宽度和对齐方式\n",
    "number = 42\n",
    "formatted_string = \"Number: {:5d}\".format(number)  # 右对齐，宽度为 5\n",
    "print(formatted_string)  # 输出: Number:    42\n",
    "\n",
    "formatted_string = \"Number: {:<5d}\".format(number)  # 左对齐，宽度为 5\n",
    "print(formatted_string)  # 输出: Number: 42   "
   ]
  },
  {
   "cell_type": "code",
   "execution_count": null,
   "id": "16bfe2f9-95fd-4dd9-86e4-90df848dfac4",
   "metadata": {},
   "outputs": [],
   "source": [
    "name = \"Alice\"\n",
    "age = 30\n",
    "height = 1.75253\n",
    "\n",
    "formatted_string = \"Name: {}, Age: {}, Height: {:.2f} meters\".format(name, age, height)\n",
    "print(formatted_string)"
   ]
  },
  {
   "cell_type": "markdown",
   "id": "33a718a5-2120-4f76-8d7e-234d66bfe760",
   "metadata": {},
   "source": [
    "`str.format`方法的详细用法见：https://docs.python.org/3/library/string.html#formatstrings\n",
    "\n",
    "下表展示了 `str.format()` 格式化数字的多种方法(供阅读，实际使用的时候可以根据需求再查)："
   ]
  },
  {
   "cell_type": "markdown",
   "id": "5043d4ea-9bd9-4c62-b120-e96dd0ef74dc",
   "metadata": {
    "jp-MarkdownHeadingCollapsed": true
   },
   "source": [
    "| 数字       | 格式     | 输出       | 描述                     |\r\n",
    "|------------|----------|------------|--------------------------|\r\n",
    "| 3.1415926  | {:.2f}   | 3.14       | 保留小数点后两位         |\r\n",
    "| 3.1415926  | {:+.2f}  | +3.14      | 带符号保留小数点后两位   |\r\n",
    "| -1         | {:-.2f}  | -1.00      | 带符号保留小数点后两位   |\r\n",
    "| 2.71828    | {:.0f}   | 3          | 不带小数                 |\r\n",
    "| 5          | {:0>2d}  | 05         | 数字补零 (填充左边, 宽度为2) |\r\n",
    "| 5          | {:x<4d}  | 5xxx       | 数字补x (填充右边, 宽度为4) |\r\n",
    "| 10         | {:x<4d}  | 10xx       | 数字补x (填充右边, 宽度为4) |\r\n",
    "| 1000000    | {:,}     | 1,000,000  | 以逗号分隔的数字格式     |\r\n",
    "| 0.25       | {:.2%}   | 25.00%     | 百分比格式               |\r\n",
    "| 1000000000 | {:.2e}   | 1.00e+09   | 指数记法       (宽度为10)      |"
   ]
  },
  {
   "cell_type": "markdown",
   "id": "41772a6f-d677-493f-aa88-08b13ac6cafd",
   "metadata": {},
   "source": [
    "### List（列表）\n",
    "一个列表可以由多个不同的对象组成，比如向量、数值、字符甚至其他列表。你可以把列表当成一个由关联信息构成的，且结构良好易于读取的容器。\n",
    "\n",
    "列表的每个元素都有索引（序号）：第一个元素是0，第二个元素是1，依次类推。你可以从list中删除元素，也可以在list的末尾添加元素。\n",
    "\n",
    "list有如下特性\n",
    "- 元素由逗号分隔，整个列表由中括号包围([ ])。\n",
    "- 其中的元素可以用切片操作符（[ ]和[:]）来访问\n",
    "- 列表的索引从0开始\n",
    "- 加号是列表连接操作符"
   ]
  },
  {
   "cell_type": "markdown",
   "id": "ed75b51d-20ec-49f6-a754-3afedfca206f",
   "metadata": {},
   "source": [
    "现在假设我们有4张专辑的发售年份为(1982, 1980, 1973, 1992)，我们需要把它赋值到单个变量中，即一个数值型列表变量。"
   ]
  },
  {
   "cell_type": "code",
   "execution_count": 15,
   "id": "e029a541-62d8-4b2a-9926-44283292edca",
   "metadata": {},
   "outputs": [
    {
     "data": {
      "text/plain": [
       "[1982, 1980, 1973, 1992]"
      ]
     },
     "execution_count": 15,
     "metadata": {},
     "output_type": "execute_result"
    }
   ],
   "source": [
    "Released_dates = [1982,1980,1973,1992]\n",
    "Released_dates"
   ]
  },
  {
   "cell_type": "markdown",
   "id": "b2a50c16-848c-47e4-ba43-bbaa5d278631",
   "metadata": {},
   "source": [
    "列表的索引、切片、拼接方式与字符串相同"
   ]
  },
  {
   "cell_type": "code",
   "execution_count": null,
   "id": "041cb703-98f0-4acf-8ef6-d411d942029f",
   "metadata": {},
   "outputs": [],
   "source": [
    "Released_dates[0] # 索引"
   ]
  },
  {
   "cell_type": "code",
   "execution_count": 17,
   "id": "943938c0-a14b-4a15-a534-31ac248fb822",
   "metadata": {},
   "outputs": [
    {
     "data": {
      "text/plain": [
       "[1980, 1973, 1992]"
      ]
     },
     "execution_count": 17,
     "metadata": {},
     "output_type": "execute_result"
    }
   ],
   "source": [
    "Released_dates[1:] # 切片"
   ]
  },
  {
   "cell_type": "markdown",
   "id": "c68cf92f-1a80-465f-8c0b-0c8e153f2c4b",
   "metadata": {},
   "source": [
    "使用`in`，`not in`可以判断的元素是否包含于列表"
   ]
  },
  {
   "cell_type": "code",
   "execution_count": null,
   "id": "ef75c11a-377d-48a2-8820-78d95378a65d",
   "metadata": {},
   "outputs": [],
   "source": [
    "1982 in Released_dates"
   ]
  },
  {
   "cell_type": "markdown",
   "id": "131646cd-947b-4667-866b-91bd33a189a1",
   "metadata": {},
   "source": [
    "使用`append()`方法向列表末尾追加元素"
   ]
  },
  {
   "cell_type": "code",
   "execution_count": null,
   "id": "4a2268fd-5fb2-473b-9f5c-ce1a282e7ec1",
   "metadata": {},
   "outputs": [],
   "source": [
    "Released_dates.append(1966)\n",
    "print(Released_dates)"
   ]
  },
  {
   "cell_type": "markdown",
   "id": "3709917f-3d7a-470b-b98a-658bd14722e4",
   "metadata": {},
   "source": [
    "列表的元素是可以覆盖的，重新赋值即可"
   ]
  },
  {
   "cell_type": "code",
   "execution_count": null,
   "id": "4f9f253a-582d-49db-9879-bd8874e83628",
   "metadata": {},
   "outputs": [],
   "source": [
    "Released_dates[2] = 2024\n",
    "print(Released_dates)"
   ]
  },
  {
   "cell_type": "markdown",
   "id": "c0b85243-adca-41e8-8c83-663f6b02b0fb",
   "metadata": {},
   "source": [
    "### Tuple（元组）\n",
    "\n",
    "Tuples与list很类似，区别在于元组中的元素不能被修改，并且使用的是圆括号而不是方括号。元组也是用索引机制来访问的。音乐风格就很适合存储在元组中，因为它们不会经常变动。这里有一些Python元组的例子："
   ]
  },
  {
   "cell_type": "code",
   "execution_count": null,
   "id": "2208a1fa-fe6b-4961-a96e-941a75fd6ec1",
   "metadata": {},
   "outputs": [],
   "source": [
    "genres_tuple = (\"pop\", \"rock\", \"soul\", \"hard rock\",\n",
    "                \"soft rock\",\"R&B\", \n",
    "                \"progressive rock\",\n",
    "                \"disco\")  # 这里这里用的是圆括号，注意和list 的方括号区分\n",
    "                # 逗号之后的换行不需要额外标记，如需要将单行代码写为两行，可以使用\\\n",
    "genres_tuple"
   ]
  },
  {
   "cell_type": "code",
   "execution_count": null,
   "id": "c6ce6624-1905-4002-bd29-8fb0a3f342f8",
   "metadata": {},
   "outputs": [],
   "source": [
    "genres_tuple[-1] = 'folk' #对元组元素直接赋值会报错"
   ]
  },
  {
   "cell_type": "code",
   "execution_count": 19,
   "id": "0fa2b8d4",
   "metadata": {},
   "outputs": [
    {
     "name": "stdout",
     "output_type": "stream",
     "text": [
      "1\n",
      "2\n",
      "[3, 4, 5]\n"
     ]
    }
   ],
   "source": [
    "# 元组解包操作\n",
    "a,b,*c= (1,2,3,4,5)\n",
    "print(a)\n",
    "print(b)\n",
    "print(c) # *的用法是接收其余所有的剩余参数"
   ]
  },
  {
   "cell_type": "markdown",
   "id": "c27bc929",
   "metadata": {},
   "source": [
    "### Dictionary（字典）"
   ]
  },
  {
   "cell_type": "markdown",
   "id": "410488d1-787a-428e-8942-1fc6ddc2d259",
   "metadata": {},
   "source": [
    "字典是Python内置的最重要的数据结构。字典如其名所示，其格式为\n",
    "\n",
    "**`关键字:值`** 对组成的结构\n",
    "\n",
    "在字典中，任何一个元素都有一个关键字key和值value。**元素在字典中没有序号，即没有顺序。**同时，每个key必须是唯一的。请看下面这个电话本的例子。"
   ]
  },
  {
   "cell_type": "code",
   "execution_count": null,
   "id": "5c53cff0",
   "metadata": {},
   "outputs": [],
   "source": [
    "phonebook = {'Andrew Parson':8806336,\n",
    "             'Emily Everett':\\\n",
    "             6784346,\n",
    "             'Peter Power':7658344, \n",
    "             'Lewis Lame':1122345}\n",
    "phonebook"
   ]
  },
  {
   "cell_type": "markdown",
   "id": "906127bf-011d-4961-b654-07c21e754aab",
   "metadata": {},
   "source": [
    "在字典中获取值的方式是指定关键字。例如，下面操作的结果就是获得指定的关键字所对应的值。"
   ]
  },
  {
   "cell_type": "code",
   "execution_count": null,
   "id": "fde047fc",
   "metadata": {},
   "outputs": [],
   "source": [
    "phonebook['Peter Power']"
   ]
  },
  {
   "cell_type": "markdown",
   "id": "efaf2fc1",
   "metadata": {},
   "source": [
    "在字典中添加元素十分简单，直接通过赋值即可，下面的代码在字典中添加新的键-值对"
   ]
  },
  {
   "cell_type": "code",
   "execution_count": null,
   "id": "3ab618e2",
   "metadata": {},
   "outputs": [],
   "source": [
    "phonebook['Jerry Lu'] = 7628644\n",
    "phonebook"
   ]
  },
  {
   "cell_type": "markdown",
   "id": "ff036c73",
   "metadata": {},
   "source": [
    "修改元素的方式与添加元素类似，下面的代码会将关键字为‘Jerry Lu’的元素的值修改为 7628645"
   ]
  },
  {
   "cell_type": "code",
   "execution_count": null,
   "id": "feacb468",
   "metadata": {},
   "outputs": [],
   "source": [
    "phonebook['Jerry Lu'] = 7628645\n",
    "phonebook"
   ]
  },
  {
   "cell_type": "markdown",
   "id": "2f1edb3f-06ad-474e-a01b-053789e0ec06",
   "metadata": {},
   "source": [
    "### 集合 Set\n",
    "集合中的元素不能重复"
   ]
  },
  {
   "cell_type": "code",
   "execution_count": 21,
   "id": "d71d1db2-fa9d-46d0-83bc-6b753220f868",
   "metadata": {},
   "outputs": [
    {
     "data": {
      "text/plain": [
       "{0, 1}"
      ]
     },
     "execution_count": 21,
     "metadata": {},
     "output_type": "execute_result"
    }
   ],
   "source": [
    "set_b ={0,1,1}\n",
    "set_b"
   ]
  },
  {
   "cell_type": "code",
   "execution_count": 23,
   "id": "be9ba0e9-bd32-4b46-a88f-dde2a692a123",
   "metadata": {},
   "outputs": [
    {
     "data": {
      "text/plain": [
       "[0, 1, 2, 3]"
      ]
     },
     "execution_count": 23,
     "metadata": {},
     "output_type": "execute_result"
    }
   ],
   "source": [
    "list_a = [0,1,2,3,2,1,0]\n",
    "set_a = set(list_a)\n",
    "list(set_a)"
   ]
  },
  {
   "cell_type": "markdown",
   "id": "ef37686e-c076-4989-8d12-743f9891d405",
   "metadata": {},
   "source": [
    "set可以进行集合运算"
   ]
  },
  {
   "cell_type": "code",
   "execution_count": 25,
   "id": "0d577228-c384-46e7-b202-7362987ced28",
   "metadata": {},
   "outputs": [
    {
     "name": "stdout",
     "output_type": "stream",
     "text": [
      "{'i', 'c', 'o', 'e', 'J', 'h', 'l', ' ', 's', 'n', 'a', 'k', 'M'}\n",
      "{'t', 'c', 'o', 'd', 'e', 'F', 'l', ' ', 'w', 'a', 'M'}\n",
      "{'i', 'J', 's', 'n', 'h', 'k'}\n",
      "{'t', 'c', 'd', 'J', 's', 'n', 'h', 'M', 'i', 'o', 'e', 'F', 'l', ' ', 'w', 'a', 'k'}\n",
      "{'c', 'o', 'e', 'l', ' ', 'a', 'M'}\n",
      "{'i', 't', 'd', 'J', 'F', 'h', 'w', 's', 'n', 'k'}\n"
     ]
    }
   ],
   "source": [
    "a = set('Michael Jackson')\n",
    "b = set('Fleetwood Mac')\n",
    "\n",
    "print(a)\n",
    "print(b)\n",
    "print(a - b)     # a 和 b 的差集\n",
    "print(a | b)     # a 和 b 的并集\n",
    "print(a & b)     # a 和 b 的交集\n",
    "print(a ^ b)     # a 和 b 中不同时存在的元素"
   ]
  },
  {
   "cell_type": "markdown",
   "id": "ef32d0ba",
   "metadata": {},
   "source": [
    "## 控制流"
   ]
  },
  {
   "cell_type": "markdown",
   "id": "cde58b88",
   "metadata": {},
   "source": [
    "截止到现在，以上代码都是从上到下顺序执行的。如果我们想改变这一工作流程，应该怎么做？就像这样的情况：你需要程序作出一些决定，并依据不同的情况去完成不同的事情，例如依据每天时间的不同打印出 '早上好'  或 '晚上好' ？\n",
    "\n",
    "这将通过控制流语句来实现的。在 Python 中有三种控制流语句——`if-else` `for` 和 `while`。"
   ]
  },
  {
   "cell_type": "markdown",
   "id": "3474b955",
   "metadata": {},
   "source": [
    "### if-else"
   ]
  },
  {
   "cell_type": "markdown",
   "id": "8d867291",
   "metadata": {},
   "source": [
    "`if`语句用以检查条件：如果 条件为真（True），我们将运行一块语句（if-block），否则 我们将运行另一块语句（else-block）。其中（else-block）部分是可选的。\n",
    "<img src=\"https://pan.imgbed.link/file/173602\" width=\"500\">"
   ]
  },
  {
   "cell_type": "code",
   "execution_count": 27,
   "id": "219ab316",
   "metadata": {},
   "outputs": [
    {
     "name": "stdout",
     "output_type": "stream",
     "text": [
      "current_hour: 18\n"
     ]
    }
   ],
   "source": [
    "#获取当前时间的小时数\n",
    "import time\n",
    "current_hour = time.localtime().tm_hour\n",
    "print('current_hour: '+ str(current_hour))"
   ]
  },
  {
   "cell_type": "code",
   "execution_count": 31,
   "id": "f510c301",
   "metadata": {},
   "outputs": [
    {
     "name": "stdout",
     "output_type": "stream",
     "text": [
      "讲课进度还可以\n"
     ]
    }
   ],
   "source": [
    "#控制流代码\n",
    "if current_hour <= 19:\n",
    "    print('讲课进度还可以')\n",
    "else:\n",
    "    print('进度偏慢，后面要快点了')"
   ]
  },
  {
   "cell_type": "markdown",
   "id": "0f38ed13",
   "metadata": {},
   "source": [
    "需要注意，python使用缩进来判断控制流的作用范围和嵌套关系，缩进对齐的if和else才是对应关系。例如:\n",
    "```python\n",
    "if current_hour <= 5:\n",
    "    if current_hour > 7:\n",
    "        print('...')\n",
    "    else:\n",
    "        print('...')\n",
    "else:\n",
    "    print('...')\n",
    "```\n",
    "建议使用Tab键或4个空格来实现缩进。"
   ]
  },
  {
   "cell_type": "markdown",
   "id": "4f85c394",
   "metadata": {},
   "source": [
    "`if`也可以单独使用，不加else。"
   ]
  },
  {
   "cell_type": "code",
   "execution_count": null,
   "id": "d1035af7",
   "metadata": {},
   "outputs": [],
   "source": [
    "if 2<1:\n",
    "    print(\"True\")"
   ]
  },
  {
   "cell_type": "markdown",
   "id": "b98e6834-fa6d-491d-a4c4-d44f18453e1d",
   "metadata": {},
   "source": [
    "`if`也可以有多个判断条件。使用`elif`来实现。`elif` 语句在前面的 `if` 或 `elif` 条件不满足时才会被检查。如果 `elif` 条件为真，则执行对应的代码块。后面的`elif`代码块将不会被执行。"
   ]
  },
  {
   "cell_type": "code",
   "execution_count": null,
   "id": "9a129e59-2b38-4bda-ae31-cd36ca1dd716",
   "metadata": {},
   "outputs": [],
   "source": [
    "x = 10\n",
    "if x > 0:\n",
    "    print(\"x 是正数\")\n",
    "elif x == 0:\n",
    "    print(\"x 是零\")\n",
    "else:\n",
    "    print(\"x 是负数\")"
   ]
  },
  {
   "cell_type": "markdown",
   "id": "dbd09d87",
   "metadata": {},
   "source": [
    "### for 循环"
   ]
  },
  {
   "cell_type": "markdown",
   "id": "f6971cf0",
   "metadata": {},
   "source": [
    "for循环用于遍历任何序列的项目，如一个列表或者一个字符串。\n",
    "\n",
    "<img src=\"https://pan.imgbed.link/file/173603\" width=\"500\">"
   ]
  },
  {
   "cell_type": "code",
   "execution_count": 33,
   "id": "deff6b5b",
   "metadata": {},
   "outputs": [
    {
     "name": "stdout",
     "output_type": "stream",
     "text": [
      "1. 简介与工具准备\n",
      "loop 0\n",
      "2. python基础语法\n",
      "loop 1\n",
      "3. python变量类型\n",
      "loop 2\n",
      "4. 控制流\n",
      "loop 3\n",
      "5. 函数\n",
      "loop 4\n",
      "6. 类\n",
      "loop 5\n",
      "7. 模块\n",
      "loop 6\n"
     ]
    }
   ],
   "source": [
    "progress = ['1. 简介与工具准备',\n",
    "            '2. python基础语法',\n",
    "            '3. python变量类型',\n",
    "            '4. 控制流',\n",
    "            '5. 函数',\n",
    "            '6. 类',\n",
    "            '7. 模块'] # 一个字符串列表\n",
    "i=0\n",
    "for p in progress: # 这里的p是循环变量，progress是被循环的序列\n",
    "    print(p)\n",
    "    print(\"loop\",i)\n",
    "    i+=1 # i = i+1\n",
    "    #time.sleep(1) #暂停1秒"
   ]
  },
  {
   "cell_type": "markdown",
   "id": "1fd80f8b-5492-4025-8898-a65b4662c0c8",
   "metadata": {},
   "source": [
    "除了用于遍历列表以外，`for`循环也常与`range()`一起使用。用于数字的循环。`range()` 函数是 Python 中的一个内置函数，用于生成一个整数序列。有三种不同的调用方式\n",
    "- range(stop)，从0到stop-1\n",
    "- range(start, stop) 从start到stop-1\n",
    "- range(start, stop, step) 从start到stop-1，步长为step"
   ]
  },
  {
   "cell_type": "code",
   "execution_count": null,
   "id": "745a3262",
   "metadata": {},
   "outputs": [],
   "source": [
    "for i in range(2,10,2):\n",
    "    print(i)"
   ]
  },
  {
   "cell_type": "markdown",
   "id": "9ec0a227-f0b5-4093-b8c1-95c2ee444863",
   "metadata": {},
   "source": [
    "for循环也可以循环其他序列对象，此处不再展开。"
   ]
  },
  {
   "cell_type": "markdown",
   "id": "9bdef182",
   "metadata": {},
   "source": [
    "### while 循环"
   ]
  },
  {
   "cell_type": "markdown",
   "id": "1c5130d5",
   "metadata": {},
   "source": [
    "while循环用于循环执行某段程序，直到不满足循环条件时终止。\n",
    "\n",
    "<img src=\"https://pan.imgbed.link/file/173604\" width=\"500\">"
   ]
  },
  {
   "cell_type": "code",
   "execution_count": null,
   "id": "a60850d4",
   "metadata": {},
   "outputs": [],
   "source": [
    "#使用while循环打印斐波那契数列\n",
    "i = 0\n",
    "j = 1\n",
    "fi = 0\n",
    "while fi < 500:\n",
    "    fi = i+j\n",
    "    i,j = j,fi # 同时进行两个变量的赋值\n",
    "    print(fi)"
   ]
  },
  {
   "cell_type": "markdown",
   "id": "f39ed2dd",
   "metadata": {},
   "source": [
    "### 循环的continue、break与pass"
   ]
  },
  {
   "cell_type": "markdown",
   "id": "878eface",
   "metadata": {},
   "source": [
    "`continue`能**跳过**循环体中剩余的代码，直接进入下一轮循环。"
   ]
  },
  {
   "cell_type": "code",
   "execution_count": null,
   "id": "3a94bd71",
   "metadata": {},
   "outputs": [],
   "source": [
    "i = 0\n",
    "j = 1\n",
    "fi = 0\n",
    "while fi < 500:\n",
    "    fi = i+j\n",
    "    i= j\n",
    "    j= fi\n",
    "    if fi%2 == 0:\n",
    "        continue  #当fi为偶数时，跳过print，进入下一循环\n",
    "    print(fi)"
   ]
  },
  {
   "cell_type": "markdown",
   "id": "a6eacfb8",
   "metadata": {},
   "source": [
    "`break`能直接**跳出**当前循环体，结束循环。"
   ]
  },
  {
   "cell_type": "code",
   "execution_count": null,
   "id": "96c72448-d192-4fd0-9021-07fdb6e54518",
   "metadata": {},
   "outputs": [],
   "source": [
    "i = 0\n",
    "j = 1\n",
    "fi = 0\n",
    "while fi < 500:\n",
    "    fi = i+j\n",
    "    i= j\n",
    "    j= fi\n",
    "    print(fi)\n",
    "    if fi%11 == 0:\n",
    "        break    #当fi为11的倍数时，结束循环"
   ]
  },
  {
   "cell_type": "markdown",
   "id": "300c04da",
   "metadata": {},
   "source": [
    "`pass`实际上不执行任何操作。仅用作占位。提高代码的可读性。"
   ]
  },
  {
   "cell_type": "code",
   "execution_count": null,
   "id": "a88ed9cb-536e-463c-914d-a1acffea7009",
   "metadata": {},
   "outputs": [],
   "source": [
    "for i in range(10):\n",
    "    if i % 2 == 0:\n",
    "        pass  # 占位符，不执行任何操作\n",
    "    else:\n",
    "        print(i)"
   ]
  },
  {
   "cell_type": "markdown",
   "id": "77354f7e",
   "metadata": {},
   "source": [
    "# 函数 Function"
   ]
  },
  {
   "cell_type": "markdown",
   "id": "7e05c5ff-52de-4756-9157-d4b1865d6811",
   "metadata": {},
   "source": [
    "## 定义函数"
   ]
  },
  {
   "cell_type": "markdown",
   "id": "30d42481",
   "metadata": {},
   "source": [
    "函数在编程中指一段可复用的代码。使用函数有助于简化代码，便于理解和修改。 \n",
    "\n",
    "在Python中采用`def`关键字进行函数的定义。"
   ]
  },
  {
   "cell_type": "markdown",
   "id": "43971705",
   "metadata": {},
   "source": [
    "来看一个简单的数学问题，对于：\n",
    "$$\n",
    "f(n)\n",
    "\\begin{cases}\n",
    "\\cfrac n2, & \\text{if}\\ n \\ \\text{is even}\\\\\n",
    "3n + 1, & \\text{if}\\ n \\ \\text{is odd}\n",
    "\\end{cases}\n",
    "$$\n",
    "\n",
    "我们现在可以用python代码来表达：\n",
    "```python\n",
    "if n%2 == 0:\n",
    "    f_n = n/2\n",
    "else:\n",
    "    f_n = 3*n+1\n",
    "```\n",
    "如果我们需要计算\n",
    "$$ f(3)+f(4)*f(5)$$\n",
    "不使用函数的话，我们可以这样写："
   ]
  },
  {
   "cell_type": "code",
   "execution_count": null,
   "id": "bd291491",
   "metadata": {},
   "outputs": [],
   "source": [
    "a = 3\n",
    "b = 4\n",
    "c = 5\n",
    "\n",
    "##计算f(3)\n",
    "if a%2 == 0:\n",
    "    f_a = a/2\n",
    "else:\n",
    "    f_a = 3*a+1\n",
    "    \n",
    "##计算f(4)\n",
    "if b%2 == 0:\n",
    "    f_b = b/2\n",
    "else:\n",
    "    f_b = 3*b+1\n",
    "    \n",
    "##计算f(5)\n",
    "if c%2 == 0:\n",
    "    f_c = c/2\n",
    "else:\n",
    "    f_c = 3*c+1\n",
    "    \n",
    "print('f(3) + f(4) * f(5) =',f_a+f_b*f_c)"
   ]
  },
  {
   "cell_type": "markdown",
   "id": "3959bfe3",
   "metadata": {},
   "source": [
    "可以观察到其中大部分代码是**重复**的。对于这类简单的问题，我们尚且可以使用循环来简化。但面对更复杂的问题，函数的重要性就显现出来了。"
   ]
  },
  {
   "cell_type": "code",
   "execution_count": null,
   "id": "604e2eae",
   "metadata": {},
   "outputs": [],
   "source": [
    "def f(n): #def关键字，定义函数名称为f，函数的输入为n\n",
    "    if n%2 == 0:     #函数体，注意相比 def 关键字要整体缩进\n",
    "        f_n = n/2\n",
    "    else:\n",
    "        f_n = 3*n+1\n",
    "    return f_n       #return关键字，函数的返回值，可以没有，有一个，或者多个"
   ]
  },
  {
   "cell_type": "markdown",
   "id": "21c53683",
   "metadata": {},
   "source": [
    "当定义完成函数之后，前述问题可以用一行代码简单实现。"
   ]
  },
  {
   "cell_type": "code",
   "execution_count": null,
   "id": "fa236af3",
   "metadata": {},
   "outputs": [],
   "source": [
    "print('f(3) + f(4) * f(5) =',f(3) + f(4) * f(5))"
   ]
  },
  {
   "cell_type": "markdown",
   "id": "7faf43ff",
   "metadata": {},
   "source": [
    "需要注意的是，函数中的变量存在**作用域**的问题，函数以外不能调用函数里层的变量。"
   ]
  },
  {
   "cell_type": "code",
   "execution_count": null,
   "id": "2fec0b1b",
   "metadata": {},
   "outputs": [],
   "source": [
    "def func(x):\n",
    "    my_a = 5\n",
    "    return my_a * x\n",
    "b = 3\n",
    "#a = func(b)\n",
    "print(my_a)"
   ]
  },
  {
   "cell_type": "markdown",
   "id": "af62fee1",
   "metadata": {},
   "source": [
    "这个例子可以看到，打印的 my_a 是函数体以外的 my_a ，而不是函数体内的 my_a。这是由于作用域的原因。"
   ]
  },
  {
   "cell_type": "markdown",
   "id": "ab170f5b",
   "metadata": {},
   "source": [
    "共有两种类型的函数：\n",
    "\n",
    "- **用户自定义函数**：由我们自定义的函数，比如上面的例子\n",
    "- **预定义函数**：Python预定义的函数,如`max()`,`min()`,`abs()`等\n",
    "- **通过库引入的函数**： 例如绘图函数`plt.plot()`，使用这些函数需要导入第三方库"
   ]
  },
  {
   "cell_type": "code",
   "execution_count": null,
   "id": "cd359f01",
   "metadata": {},
   "outputs": [],
   "source": [
    "album_ratings = [10.0,8.5,9.5,12.5,7.0,7.0,9.5,9.0,9.5] \n",
    "M = max(album_ratings) # 使用内置的max函数可以得到列表中最大的数值\n",
    "M"
   ]
  },
  {
   "cell_type": "markdown",
   "id": "717f4ab7",
   "metadata": {},
   "source": [
    "<div class=\"alert alert-block alert-success\">\n",
    "Python的预定义函数在这里不进行一一介绍，大家可以通过<code>print(dir(__builtins__))</code>查询\n",
    "</div>"
   ]
  },
  {
   "cell_type": "code",
   "execution_count": null,
   "id": "fd157f50-0747-44cd-b63b-504e3082f770",
   "metadata": {},
   "outputs": [],
   "source": [
    "print(dir(__builtins__))"
   ]
  },
  {
   "cell_type": "markdown",
   "id": "cce8a276-f22d-4cba-9c9f-fcad15682ce3",
   "metadata": {},
   "source": [
    "## 在函数中使用参数\n",
    "\n",
    "\n",
    "\n",
    "以下是调用函数时可使用的正式参数类型：\n",
    "\n",
    "- 必需参数\n",
    "- 关键字参数\n",
    "- 默认参数\n",
    "- 不定长参数"
   ]
  },
  {
   "cell_type": "markdown",
   "id": "957d86a4-7199-44cd-9215-563bf31729f9",
   "metadata": {},
   "source": [
    "### 必需参数\n",
    "必需参数也叫位置参数，须以正确的顺序传入函数。调用时的数量必须和声明时的一样。"
   ]
  },
  {
   "cell_type": "code",
   "execution_count": null,
   "id": "a07ae263-fc5e-46ea-baa9-f0a4b23e9bf0",
   "metadata": {},
   "outputs": [],
   "source": [
    "def grow(name,currentAge,Year):\n",
    "    print(name+' will be',currentAge + Year,'years old.')"
   ]
  },
  {
   "cell_type": "code",
   "execution_count": null,
   "id": "e13a39ac-ed0e-4567-a999-fa4f060359b5",
   "metadata": {},
   "outputs": [],
   "source": [
    "grow('Pete',10,2)"
   ]
  },
  {
   "cell_type": "markdown",
   "id": "08f0f7a7-ae95-4bb4-8107-62df4ff71629",
   "metadata": {},
   "source": [
    "### 关键字参数\n",
    "关键字参数和函数调用关系紧密，函数调用使用关键字参数来确定传入的参数值。"
   ]
  },
  {
   "cell_type": "code",
   "execution_count": null,
   "id": "cb3b672f-587b-4eeb-9473-a2fe3efff552",
   "metadata": {},
   "outputs": [],
   "source": [
    "grow('pete', Year = 2,currentAge = 10)"
   ]
  },
  {
   "cell_type": "markdown",
   "id": "4622ce35-b7d7-403f-989d-148ce4d7ede4",
   "metadata": {},
   "source": [
    "### 默认参数\n",
    "调用函数时，如果没有传递参数，则会使用默认参数。默认参数需要再函数定义时给出。"
   ]
  },
  {
   "cell_type": "code",
   "execution_count": null,
   "id": "5a432280-37ce-4e76-aac4-dde89b08d211",
   "metadata": {},
   "outputs": [],
   "source": [
    "def printinfo( name = 'SJTU', age = 128 ):\n",
    "    print(\"name: \", name)\n",
    "    print(\"age: \", age)\n",
    "\n",
    "printinfo(name = 'FDU',age = 120)"
   ]
  },
  {
   "cell_type": "code",
   "execution_count": null,
   "id": "15630935-cf57-49e1-999b-aa0366cc1b7c",
   "metadata": {},
   "outputs": [],
   "source": [
    "printinfo()"
   ]
  },
  {
   "cell_type": "markdown",
   "id": "da5766cc-e543-46ad-b133-cd7fbc0371c7",
   "metadata": {},
   "source": [
    "### 不定长参数"
   ]
  },
  {
   "cell_type": "markdown",
   "id": "a906d078-14d2-4880-8b80-e5910befce92",
   "metadata": {},
   "source": [
    "在 Python 中，不定长参数允许你定义可以接受任意数量参数的函数。主要有两种类型的不定长参数：\n",
    "\n",
    "- 位置不定长参数（使用 `*args`）\n",
    "- 关键字不定长参数（使用 `**kwargs`）\n",
    "\n",
    "对于位置不定长参数（使用 `*args`），参数在函数内部会被打包成一个元组。"
   ]
  },
  {
   "cell_type": "code",
   "execution_count": 23,
   "id": "3bcd996e-c107-4fd9-9eb0-42053f83bc3f",
   "metadata": {},
   "outputs": [
    {
     "name": "stdout",
     "output_type": "stream",
     "text": [
      "Output:\n",
      "40\n",
      "(50, 60, 70, 80, 90, 100, 110)\n",
      "60\n",
      "<class 'tuple'>\n",
      "50\n",
      "60\n",
      "70\n",
      "80\n",
      "90\n",
      "100\n",
      "110\n"
     ]
    }
   ],
   "source": [
    "def printinfo(arg1, *vartuple ):\n",
    "    print(\"Output:\")\n",
    "    print(arg1)\n",
    "    print(vartuple)\n",
    "    print(vartuple[1])\n",
    "    print(type(vartuple))\n",
    "    for v in vartuple:\n",
    "        print(v)\n",
    "printinfo(40, 50,60,70 ,80,90,100,110) # 會用元組的形式把東西打包"
   ]
  },
  {
   "cell_type": "markdown",
   "id": "5b927aa0-448d-4907-a49b-0eb0bd82cc20",
   "metadata": {},
   "source": [
    "使用关键字不定长参数 `**kwargs` 可以传递任意数量的关键字参数给函数。参数在函数内部会被打包成一个**字典**。这种写法在很多内置函数的帮助文档中经常会见到。"
   ]
  },
  {
   "cell_type": "code",
   "execution_count": 44,
   "id": "7ff50777-4775-436a-8722-6930d691f3e4",
   "metadata": {},
   "outputs": [],
   "source": [
    "def printinfo(arg1, **kwargs):\n",
    "    print(arg1)\n",
    "    print(kwargs)\n",
    "    print(type(kwargs))\n",
    "    for key, value in kwargs.items():\n",
    "        print(f\"{key}: {value}\")\n",
    "    print(kwargs['location'])"
   ]
  },
  {
   "cell_type": "code",
   "execution_count": 48,
   "id": "18d947b2-435f-40d1-b2d6-a9f6177a782f",
   "metadata": {},
   "outputs": [
    {
     "name": "stdout",
     "output_type": "stream",
     "text": [
      "sjtu\n",
      "{'year': 1896, 'location': 'Minhang'}\n",
      "<class 'dict'>\n",
      "year: 1896\n",
      "location: Minhang\n",
      "Minhang\n"
     ]
    }
   ],
   "source": [
    "printinfo('sjtu',year = 1896,location = 'Minhang') # 會用字典的形式把東西打包"
   ]
  },
  {
   "cell_type": "markdown",
   "id": "211fcd71-3e97-454e-8c3e-2fa62c1a5426",
   "metadata": {},
   "source": [
    "### 位置参数和关键字参数的组合"
   ]
  },
  {
   "cell_type": "markdown",
   "id": "72fe8257-8f3c-4f2a-90ac-8c6b56d45768",
   "metadata": {},
   "source": [
    "你可以在同一个函数中同时使用位置参数、关键字参数、默认参数、*args 和 **kwargs。"
   ]
  },
  {
   "cell_type": "code",
   "execution_count": null,
   "id": "3613dc7b-d2a5-45a7-b8b2-1a9941127638",
   "metadata": {},
   "outputs": [],
   "source": [
    "def greet(greeting, *names, age=25, **info):\n",
    "    for name in names:\n",
    "        print(\"{}, {}! You are {} years old.\".format(greeting,name,age))\n",
    "    for key, value in info.items():\n",
    "        print(\"{}: {}\".format(key,value))\n",
    "\n",
    "greet(\"Hello\", \"Alice\", \"Bob\", age=30, city=\"New York\", hobby=\"Reading\")"
   ]
  },
  {
   "cell_type": "markdown",
   "id": "65459131",
   "metadata": {},
   "source": [
    "# 类 Class (*选学)"
   ]
  },
  {
   "cell_type": "markdown",
   "id": "de643f6d",
   "metadata": {},
   "source": [
    "由以上的知识，我们已经可以实现大部分的**面向过程**编程了。所谓面向过程是一种以过程为中心的编程思想。这些都是以什么正在发生为主要目标进行编程，不同于面向对象的是谁在受影响。许多时候面向过程的思考方式是不直观的、不自然的，与之对应的是**面向对象**的编程方式。"
   ]
  },
  {
   "cell_type": "markdown",
   "id": "fb109fa0",
   "metadata": {},
   "source": [
    "Python从设计之初就已经是一门面向对象的语言，正因为如此，在Python中创建一个类和对象是很容易的。\n",
    "如果以前没有接触过面向对象的编程语言，那我们可能需要先了解一些面向对象思想的一些基本知识。\n",
    "\n",
    "* **类:** 用来描述具有相同的属性和方法的对象的集合。它定义了该集合中每个对象所共有的属性和方法。对象是类的实例。 \n",
    " \n",
    " \n",
    "* **类变量：**类变量在整个实例化的对象中是公用的。类变量定义在类中且在函数体之外。类变量通常不作为实例变量使用。 \n",
    "\n",
    "\n",
    "* **类方法：**类中定义的函数。\n",
    "\n",
    "\n",
    "* **实例化：**创建一个类的实例，类的具体对象。 \n",
    " \n",
    " \n",
    "* **对象：**通过类定义的数据结构实例。对象包括两个数据成员（类变量和实例变量）和方法。 "
   ]
  },
  {
   "cell_type": "markdown",
   "id": "65882e62",
   "metadata": {},
   "source": [
    "我们通过以下一个银行账户转账的简单例子了解一下面向对象的编程方式。"
   ]
  },
  {
   "cell_type": "code",
   "execution_count": null,
   "id": "2e75cbc7",
   "metadata": {},
   "outputs": [],
   "source": [
    "class Account:                               #定义一个名叫Account的类\n",
    "    def __init__(self, name, balance):       #__init__()方法是类的初始化函数，是必须的，self关键字表示类的成员\n",
    "        self.name = name                     #定义了类成员变量name\n",
    "        self.balance = balance               #定义了类成员变量balance\n",
    "        \n",
    "    def transfer(self, receiver, amount):    #定义类的成员函数transfer，实现转账功能。类成员函数包含参数self。\n",
    "        if self.balance < amount:\n",
    "            print('账户:',self.name,'余额不足')\n",
    "        else:\n",
    "            self.balance = self.balance - amount\n",
    "            receiver.balance = receiver.balance + amount\n",
    "            print('已转账',amount)\n",
    "            \n",
    "    def check_balance(self):                 #定义类的成员函数check_balance，实现余额查询功能。\n",
    "        print('账户:',self.name,'余额:',self.balance)"
   ]
  },
  {
   "cell_type": "markdown",
   "id": "4bc94bcc",
   "metadata": {},
   "source": [
    "至此，我们定义的Account类中包含以下内容：\n",
    "* 类变量\n",
    "     * name \n",
    "     * balance \n",
    "* 类方法\n",
    "     * transfer() \n",
    "     * check_balance() "
   ]
  },
  {
   "cell_type": "code",
   "execution_count": null,
   "id": "390b3c34",
   "metadata": {},
   "outputs": [],
   "source": [
    "account_a = Account(name='A',balance=50)  #类的实例化，传入的参数即__init__()要求传入的变量，除去self\n",
    "account_b = Account(name='B',balance=100) #这里的account_a, account_b就称为对象(Object)\n",
    "\n",
    "account_a.check_balance()  #对象可以用 object.method()的方法调用自身的成员方法\n",
    "account_b.check_balance()  #对象可以用 object.method()的方法调用自身的成员方法"
   ]
  },
  {
   "cell_type": "code",
   "execution_count": null,
   "id": "cf3833bf",
   "metadata": {},
   "outputs": [],
   "source": [
    "account_a.transfer(receiver=account_b,amount=100)"
   ]
  },
  {
   "cell_type": "code",
   "execution_count": null,
   "id": "fecbdddc",
   "metadata": {},
   "outputs": [],
   "source": [
    "account_a.transfer(receiver=account_b,amount=50)\n",
    "\n",
    "account_a.check_balance()\n",
    "account_b.check_balance()"
   ]
  },
  {
   "cell_type": "markdown",
   "id": "3204b17a",
   "metadata": {},
   "source": [
    "对**面向对象**的编程方式有了一个大概的了解之后，我们在回过头想：同样的账户与转账的操作，用**面向过程**的方式会怎么写？\n",
    "\n",
    "我们可能会需要一个**字典**储存账户名和余额，另外创建一个**函数**来实现字典的修改，即转账功能。\n",
    "\n",
    "不难感受到，面向对象的思考方式是**更自然的，更接近现实的**。"
   ]
  },
  {
   "cell_type": "markdown",
   "id": "c22ac153",
   "metadata": {},
   "source": [
    "类的继承： 面向对象编程 (OOP) 语言的一个主要功能就是**“继承”**。继承是指这样一种能力：它可以使用现有类的所有功能，并在无需重新编写原来的类的情况下对这些功能进行扩展。\n",
    "通过继承创建的新类称为**“子类”**或“派生类”，被继承的类称为“基类”、**“父类”**或“超类”。\n",
    "\n",
    "接下来我们通过继承上述的Account类，创建拥有密码属性的子类EncryptAccount："
   ]
  },
  {
   "cell_type": "code",
   "execution_count": null,
   "id": "a7c1ac6f",
   "metadata": {},
   "outputs": [],
   "source": [
    "class EncryptAccount(Account):  #定义一个名叫EncryptAccount的类，继承自Account类\n",
    "    def __init__(self, name, balance, passwd):       \n",
    "        Account.__init__(self, name, balance) # 调用父类的初始化\n",
    "        self.passwd = passwd\n",
    "        \n",
    "    def transfer(self, receiver, amount, passwd): # 重写父类的transfer方法，加入密码验证\n",
    "        if passwd != self.passwd:\n",
    "            print('密码错误')\n",
    "            return    \n",
    "        if self.balance < amount:\n",
    "            print('账户:',self.name,'余额不足')\n",
    "            return\n",
    "        self.balance = self.balance - amount\n",
    "        receiver.balance = receiver.balance + amount\n",
    "        print('已转账',amount)"
   ]
  },
  {
   "cell_type": "code",
   "execution_count": null,
   "id": "43be722a",
   "metadata": {},
   "outputs": [],
   "source": [
    "encrypt_account_a = EncryptAccount(name='A',balance=50,passwd='ac_a')  \n",
    "encrypt_account_b = EncryptAccount(name='B',balance=100,passwd='ac_b') \n",
    "\n",
    "encrypt_account_a.check_balance() \n",
    "encrypt_account_b.check_balance() # 子类EncryptAccount直接继承了父类Account的`check_balance() `方法"
   ]
  },
  {
   "cell_type": "code",
   "execution_count": null,
   "id": "d785afb7",
   "metadata": {},
   "outputs": [],
   "source": [
    "encrypt_account_a.transfer(receiver=encrypt_account_b,amount=30,passwd='ac') # 重写的transfer方法"
   ]
  },
  {
   "cell_type": "code",
   "execution_count": null,
   "id": "d2ddfb88",
   "metadata": {},
   "outputs": [],
   "source": [
    "encrypt_account_a.transfer(receiver=encrypt_account_b,amount=30,passwd='ac_a')"
   ]
  },
  {
   "cell_type": "code",
   "execution_count": null,
   "id": "dfb2bc34",
   "metadata": {},
   "outputs": [],
   "source": [
    "encrypt_account_a.check_balance()  \n",
    "encrypt_account_b.check_balance()"
   ]
  },
  {
   "cell_type": "markdown",
   "id": "63d37e37",
   "metadata": {},
   "source": [
    "# 模块"
   ]
  },
  {
   "cell_type": "markdown",
   "id": "bc3ad8ad",
   "metadata": {},
   "source": [
    "又称**库**，其中包含了**子模块**、**类**和**方法**。比如用于数学运算的math、numpy，用于数据分析的pandas，用于数据可视化的matplotlib，用于机器学习的pytorch、tensorflow。正是这些丰富而强大的模块，使得python在数据科学领域如此流行。\n",
    "\n",
    "这些库有些是python内置的，称为**标准模块**；另外一些是需要我们自行安装的，称为**第三方模块**。当我们通过安装Anaconda来安装python的时候，Anaconda已经帮我们把许多常用的数据科学相关的第三方模块安装好了，这也是为什么我们推荐大家入门的时候使用Anaconda。当然有的时候你可能会需要用到anaconda没有安装的模块，这时候你就需要使用conda或者pip工具去安装这些模块了。\n",
    "\n",
    "标准模块：\n",
    "* datetime 日期时间\n",
    "* math 数学计算\n",
    "* os 操作系统、文件操作\n",
    "* sys 操作系统、文件操作\n",
    "* urllib 网页、爬虫\n",
    "* re 正则表达式\n",
    "\n",
    "第三方模块：\n",
    "* numpy 加速的数学计算\n",
    "* scipy 科学计算\n",
    "* pandas 统计\n",
    "* matplotlib 数据可视化\n",
    "* seaborn 数据可视化\n",
    "* sci-learn 机器学习\n",
    "* pytorch 神经网络\n",
    "* tensorflow 神经网络"
   ]
  },
  {
   "cell_type": "markdown",
   "id": "5a19e4ec",
   "metadata": {},
   "source": [
    "大家可能注意到了，我们在之前使用了语句`import time`，其中`time`就是python内置的一个标准模块，`import`是引入模块的关键字。"
   ]
  },
  {
   "cell_type": "code",
   "execution_count": null,
   "id": "2f719e8a",
   "metadata": {},
   "outputs": [],
   "source": [
    "import time\n",
    "print('Hello World!')\n",
    "print('现在是 '+time.strftime(\"%Y-%m-%d %H:%M:%S\", time.localtime()))"
   ]
  },
  {
   "cell_type": "markdown",
   "id": "7c009d04",
   "metadata": {},
   "source": [
    "引入time模块之后，我们通过`time.localtime()`调用time模块的localtime()方法，获得了当前的时间。再通过time模块的strftime()方法，将当前时间格式化为`%Y-%m-%d %H:%M:%S`的格式，然后打印输出。"
   ]
  },
  {
   "cell_type": "markdown",
   "id": "1a589ffb",
   "metadata": {},
   "source": [
    "模块引用语法即\n",
    "```python\n",
    "import library\n",
    "```\n",
    "同时也有 \n",
    "```python\n",
    "from library import name\n",
    "```\n",
    "和\n",
    "```python\n",
    "from library import name as nm\n",
    "```"
   ]
  },
  {
   "cell_type": "markdown",
   "id": "29a09a69",
   "metadata": {},
   "source": [
    "其中`from…import…` 语句不引入整个模块，而是只引入其中一部分。`as`可以用简写进行重命名，以方便后续编程。如以下几个是通过引入`numpy`的随机数子模块来产生0~10随机整数的一个例子。"
   ]
  },
  {
   "cell_type": "code",
   "execution_count": null,
   "id": "8a195d5c",
   "metadata": {},
   "outputs": [],
   "source": [
    "import numpy \n",
    "numpy.random.randint(10)"
   ]
  },
  {
   "cell_type": "code",
   "execution_count": null,
   "id": "6e0272cd",
   "metadata": {},
   "outputs": [],
   "source": [
    "import numpy as np # 有時候我們會受限於名字的長度  並進行一個重命名\n",
    "np.random.randint(10)"
   ]
  },
  {
   "cell_type": "code",
   "execution_count": null,
   "id": "594af851",
   "metadata": {},
   "outputs": [],
   "source": [
    "from numpy import random\n",
    "random.randint(10)"
   ]
  },
  {
   "cell_type": "code",
   "execution_count": null,
   "id": "75499b89",
   "metadata": {},
   "outputs": [],
   "source": [
    "from numpy import random as rand\n",
    "rand.randint(10)"
   ]
  },
  {
   "cell_type": "markdown",
   "id": "6f5688d4-892a-47a0-a0d8-c18d0591f11c",
   "metadata": {},
   "source": [
    "# 练习作业"
   ]
  },
  {
   "cell_type": "markdown",
   "id": "f32ab127-e3a3-482c-8242-475446c2a9b1",
   "metadata": {},
   "source": [
    "**1. 判断水仙花数**: 编写一个函数，语法为`is_narcissistic_number(number)`，判断一个**三位数**是否是水仙花数。这里的水仙花数是指该三位数的各位数字的立方和等于该数本身。例如，153 是一个水仙花数，因为 $1^3+5^3+3^3 = 153$。要求：使用位置参数传入的形式获取函数输入，参数名为`number`。使用 `if` 语句判断输入的整数是否是水仙花数。根据判断结果打印出相应的消息，不需要有显式的返回值（可以不写return）。\n",
    "示例：\n",
    "```\n",
    "is_narcissistic_number(153)\n",
    "输出>>> \n",
    "153 是水仙花数。\n",
    "\n",
    "is_narcissistic_number(123)\n",
    "输出>>> \n",
    "123 不是水仙花数。\n",
    "```"
   ]
  },
  {
   "cell_type": "code",
   "execution_count": 19,
   "id": "9881cd00-c495-4f82-ac1b-2879b709edfc",
   "metadata": {},
   "outputs": [
    {
     "data": {
      "text/plain": [
       "True"
      ]
     },
     "execution_count": 19,
     "metadata": {},
     "output_type": "execute_result"
    }
   ],
   "source": [
    "# import numpy as np\n",
    "def is_narcissistic_number(number):\n",
    "    # 你的代码写在这里\n",
    "    # print(type(str(number)[1]));\n",
    "    sum = 0; \n",
    "    for i in range(len(str(number))): \n",
    "        sum += int(str(number)[i]) ** (len(str(number)));\n",
    "\n",
    "    if sum == number:\n",
    "        return True;\n",
    "    else: \n",
    "        return False;\n",
    "is_narcissistic_number(153)"
   ]
  },
  {
   "cell_type": "markdown",
   "id": "164b6409-b7d5-4a41-b0e4-0fdacbf07e07",
   "metadata": {},
   "source": [
    "**2. 线性插值**。编写一个函数来进行线性插值。函数接受两个列表 `x_values` 和 `y_values`，以及一个需要插值的 `x` 值。假设 `x_values` 和 `y_values` 是等长的，并且 `x_values` 中的值是按升序排列的。函数需要找到 `x` 所在的区间，并使用线性插值公式计算对应的 `y` 值。\n",
    "线性插值公式如下：\n",
    "$$y = y_0 + \\frac{(y_1 - y_0) \\cdot (x - x_0)}{(x_1 - x_0)}$$。其中的$(x_0,y_0),(x_1,y_1)$分别代表区间的两个端点。\n",
    "要求：\n",
    "函数调用语法为`y = linear_interpolation(x_values, y_values, x)`\n",
    "使用线性插值公式计算并返回（return）对应的 y 值。如果 x 超出 x_values 的范围，返回 `None`。示例：\n",
    "\n",
    "\n",
    "```\n",
    "linear_interpolation([1, 2, 3], [2, 3, 5], 2.5) = 4.0\r\n",
    "linear_interpolation([0, 10], [0, 10], 5) = 5.0\r\n",
    "linear_interpolation([1, 2, 3], [2, 3, 5], 0) = None\n",
    "```"
   ]
  },
  {
   "cell_type": "code",
   "execution_count": 74,
   "id": "84a90af3-6fd7-4942-bf41-7452cfc3ec2c",
   "metadata": {},
   "outputs": [],
   "source": [
    "def linear_interpolation(*args):\n",
    "    # 你的代码写在这里\n",
    "\n",
    "    # print(args)\n",
    "    # print(type(args))\n",
    "\n",
    "    # successfully fetch x!\n",
    "    x = args[-1]\n",
    "    # print(x)\n",
    "\n",
    "    if len(args) == 3:\n",
    "        x_values = args[0]\n",
    "        y_values = args[1]\n",
    "    else:\n",
    "        x_values = args[0:len(args) // 2] # note: 但起點是要的!\n",
    "        y_values = args[(len(args) // 2) : len(args) - 1] # note: 終點是不要的!\n",
    "        \n",
    "    # print(len(args))\n",
    "    # note: everything in Python is 0-indexed\n",
    "\n",
    "\n",
    "    if x > x_values[-1] or x < x_values[0]:\n",
    "        return None\n",
    "\n",
    "    # 能做到這一步代表餵進來的 x 正常\n",
    "\n",
    "    # 接著找出 x 在 x_values 的哪個 partitions\n",
    "    partitions = 0\n",
    "    for i in range(len(x_values) - 1):\n",
    "        if x >= x_values[i] and x <= x_values[i + 1]:\n",
    "            partitions = i\n",
    "            break\n",
    "        else:\n",
    "            continue\n",
    "    \n",
    "    # 代公式\n",
    "    return y_values[partitions] + (y_values[partitions + 1] - y_values[partitions]) * (x - x_values[partitions]) / (x_values[partitions + 1] - x_values[partitions])\n",
    "    \n",
    "\n",
    "# linear_interpolation(1, 2, 3, 4, 2)\n",
    "# linear_interpolation([1, 2, 3], [2, 3, 5], 2.5)\n",
    "#linear_interpolation([1, 2, 3], [2, 3, 5], 0) == None"
   ]
  },
  {
   "cell_type": "markdown",
   "id": "5188f087-08a5-479f-9d67-0633f24cceec",
   "metadata": {},
   "source": [
    "**3. 函数的参数控制：** 编写一个名为 `evaluate_polynomial` 的函数，该函数可以接受多个系数，并根据指定的变量值计算多项式的值。函数需要支持以下功能：\n",
    "\n",
    "- 接受任意数量的系数作为位置参数，系数按从高次到低次的顺序排列\n",
    "- 接受一个名为 `x` 的关键字参数，指定多项式的变量值，默认值为 0\n",
    "\n",
    "示例\n",
    "```\n",
    "evaluate_polynomial(1, 0, -2, x=3)\n",
    "# 输出: 1*3^2 + 0*3^1 + (-2)*3^0 = 7\n",
    "\n",
    "evaluate_polynomial(2, -1, 3, 0, x=2)\n",
    "# 输出: 2*2^3 + (-1)*2^2 + 3*2^1 + 0*2^0 = 13\n",
    "\n",
    "evaluate_polynomial(5, 0, 0, 1)\n",
    "# 输出: 5*0^3 + 0*0^2 + 0*0^1 + 1*0^0 = 1\n",
    "```\n",
    "\n",
    "提示：\n",
    "- 使用 `*args` 接受任意数量的位置参数。\n",
    "- 使用关键字参数 `x` 提供默认值。\n",
    "- 使用循环和幂运算来计算多项式的值。"
   ]
  },
  {
   "cell_type": "code",
   "execution_count": 1,
   "id": "1d556d60-777c-4b76-9285-2f02db8ab6b1",
   "metadata": {},
   "outputs": [],
   "source": [
    "def evaluate_polynomial(*coefficients, x = 0):\n",
    "    # your code here\n",
    "    # Issue: user有時候會輸入 x 有時候不會輸入 x\n",
    "    # print(coefficients)\n",
    "    # print(x)\n",
    "    result = 0\n",
    "    for i in range(len(coefficients)):\n",
    "        # print(len(coefficients) - i - 1)\n",
    "        # print(coefficients[i])\n",
    "        # print(\"---\")\n",
    "        result += coefficients[i] * ( x ** (len(coefficients) - i - 1) )\n",
    "    \n",
    "    return result"
   ]
  },
  {
   "cell_type": "code",
   "execution_count": 3,
   "id": "b46cb500-89c1-443b-ae6e-bb5cb7034e5c",
   "metadata": {},
   "outputs": [
    {
     "data": {
      "text/plain": [
       "7"
      ]
     },
     "execution_count": 3,
     "metadata": {},
     "output_type": "execute_result"
    }
   ],
   "source": [
    "evaluate_polynomial(1, 0, -2, x=3)"
   ]
  },
  {
   "cell_type": "code",
   "execution_count": 5,
   "id": "da13288f-c4ca-414d-9dac-64e589525c5b",
   "metadata": {},
   "outputs": [
    {
     "data": {
      "text/plain": [
       "18"
      ]
     },
     "execution_count": 5,
     "metadata": {},
     "output_type": "execute_result"
    }
   ],
   "source": [
    "evaluate_polynomial(2, -1, 3, 0, x=2)"
   ]
  },
  {
   "cell_type": "markdown",
   "id": "939b872b-b314-4ce3-9f64-de469bb1b152",
   "metadata": {},
   "source": [
    "**4. 面向对象编程练习（供自学练习，选做, 不计分）：** 试实现子类CreditAccount（继承自课件前面的Account父类），使账户拥有各自的信用额度属性credit，并重写父类的transfer方法，转账时允许账户透支相应的信用额度。"
   ]
  },
  {
   "cell_type": "code",
   "execution_count": null,
   "id": "80446665",
   "metadata": {},
   "outputs": [],
   "source": [
    "class CreditAccount(Account):  #定义一个名叫CreditAccount的类，继承自Account类\n",
    "    \n",
    "    def __init__(self, name, balance, credit):       \n",
    "        ########在此行以下输入代码，完成题目要求\n",
    "\n",
    "\n",
    "        #######输入代码结束\n",
    "        \n",
    "    def transfer(self, receiver, amount): # 重写父类的transfer方法，允许账户透支相应的信用额度\n",
    "        ########在此行以下输入代码，完成题目要求\n",
    "\n",
    "\n",
    "        #######输入代码结束"
   ]
  },
  {
   "cell_type": "code",
   "execution_count": null,
   "id": "3196da80",
   "metadata": {},
   "outputs": [],
   "source": [
    "credit_account_a = CreditAccount(name='A',balance=50, credit=100)  \n",
    "credit_account_b = CreditAccount(name='B',balance=100, credit= 0) \n",
    "\n",
    "credit_account_a.check_balance()\n",
    "credit_account_b.check_balance() "
   ]
  },
  {
   "cell_type": "code",
   "execution_count": null,
   "id": "075d05dc",
   "metadata": {},
   "outputs": [],
   "source": [
    "credit_account_a.transfer(receiver=credit_account_b,amount=200)"
   ]
  },
  {
   "cell_type": "code",
   "execution_count": null,
   "id": "3dd0562e",
   "metadata": {},
   "outputs": [],
   "source": [
    "credit_account_a.transfer(receiver=credit_account_b,amount=100)"
   ]
  },
  {
   "cell_type": "code",
   "execution_count": null,
   "id": "4858c0ed",
   "metadata": {},
   "outputs": [],
   "source": [
    "credit_account_a.check_balance()\n",
    "credit_account_b.check_balance() "
   ]
  }
 ],
 "metadata": {
  "kernelspec": {
   "display_name": "Python 3 (ipykernel)",
   "language": "python",
   "name": "python3"
  },
  "language_info": {
   "codemirror_mode": {
    "name": "ipython",
    "version": 3
   },
   "file_extension": ".py",
   "mimetype": "text/x-python",
   "name": "python",
   "nbconvert_exporter": "python",
   "pygments_lexer": "ipython3",
   "version": "3.12.7"
  }
 },
 "nbformat": 4,
 "nbformat_minor": 5
}
